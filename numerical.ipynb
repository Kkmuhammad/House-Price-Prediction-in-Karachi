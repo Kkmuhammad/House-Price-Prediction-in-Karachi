{
 "cells": [
  {
   "cell_type": "code",
   "execution_count": 119,
   "metadata": {},
   "outputs": [
    {
     "name": "stdout",
     "output_type": "stream",
     "text": [
      "The specified CSV file was not found.\n"
     ]
    }
   ],
   "source": [
    "import pandas as pd\n",
    "\n",
    "# Read the CSV file with the correct delimiter\n",
    "try:\n",
    "    data = pd.read_csv('testkarachi_homes1-730.csv', delimiter='|', on_bad_lines='skip')\n",
    "    print(data.head())\n",
    "    print(data.columns)  # Inspect the columns\n",
    "    \n",
    "    # Ensure there are at least 7 columns to rename\n",
    "    if len(data.columns) >= 7:\n",
    "        # Rename only the first 7 columns\n",
    "        split_columns = data.iloc[:, :7]  # Take only the first 7 columns\n",
    "        split_columns.columns = ['Location', 'Price', 'Bedrooms', 'Baths', 'Size', 'Image', 'Description']\n",
    "\n",
    "        # Display the new DataFrame structure\n",
    "        print(split_columns.head())\n",
    "\n",
    "        # Save the newly structured DataFrame to a new CSV file\n",
    "        new_csv = 'karachi_cleaned.csv'\n",
    "        split_columns.to_csv(new_csv, index=False)\n",
    "\n",
    "        print(f\"Structured data saved to {new_csv}\")\n",
    "    else:\n",
    "        print(\"The CSV file does not contain at least 7 columns to rename.\")\n",
    "\n",
    "except pd.errors.ParserError as e:\n",
    "    print(\"ParserError:\", e)\n",
    "except FileNotFoundError:\n",
    "    print(\"The specified CSV file was not found.\")\n",
    "except Exception as e:\n",
    "    print(f\"An error occurred: {e}\")\n"
   ]
  },
  {
   "cell_type": "code",
   "execution_count": 120,
   "metadata": {},
   "outputs": [
    {
     "data": {
      "text/html": [
       "<div>\n",
       "<style scoped>\n",
       "    .dataframe tbody tr th:only-of-type {\n",
       "        vertical-align: middle;\n",
       "    }\n",
       "\n",
       "    .dataframe tbody tr th {\n",
       "        vertical-align: top;\n",
       "    }\n",
       "\n",
       "    .dataframe thead th {\n",
       "        text-align: right;\n",
       "    }\n",
       "</style>\n",
       "<table border=\"1\" class=\"dataframe\">\n",
       "  <thead>\n",
       "    <tr style=\"text-align: right;\">\n",
       "      <th></th>\n",
       "      <th>Location</th>\n",
       "      <th>Price</th>\n",
       "      <th>Bedrooms</th>\n",
       "      <th>Baths</th>\n",
       "      <th>Size</th>\n",
       "      <th>Image</th>\n",
       "      <th>Description</th>\n",
       "    </tr>\n",
       "  </thead>\n",
       "  <tbody>\n",
       "    <tr>\n",
       "      <th>0</th>\n",
       "      <td>Askari 5 - Sector F, Askari 5</td>\n",
       "      <td>45000000</td>\n",
       "      <td>3</td>\n",
       "      <td>3</td>\n",
       "      <td>2403.0000</td>\n",
       "      <td>https://media.zameen.com/thumbnails/257046245-400x300.jpeg</td>\n",
       "      <td>Brand New 2400 Square Feet 3 Bedroom Park Facing Apartment with Attached Bath, Kitchen, Store, Lounge, Drawing Room &amp; Servant Quarter is available for Sale in Askari-V, Malir Cantt Karachi. Located right next to Check Post 5 (Walking Distance) with all amenities nearby.</td>\n",
       "    </tr>\n",
       "    <tr>\n",
       "      <th>1</th>\n",
       "      <td>Askari 5 - Sector J, Askari 5</td>\n",
       "      <td>45000000</td>\n",
       "      <td>3</td>\n",
       "      <td>4</td>\n",
       "      <td>2502.0000</td>\n",
       "      <td>https://media.zameen.com/thumbnails/257147196-400x300.jpeg</td>\n",
       "      <td>Brand New 3 Bedroom Apartment with Attached Bath, Kitchen, Store, Lounge, Drawing Room, Servant Quarter &amp; Covered Parking For Sale In Sector-J, Askari-V, Malir Cantt Karachi</td>\n",
       "    </tr>\n",
       "    <tr>\n",
       "      <th>2</th>\n",
       "      <td>Falcon Complex New Malir, Malir</td>\n",
       "      <td>98000000</td>\n",
       "      <td>5</td>\n",
       "      <td>5</td>\n",
       "      <td>4500.0000</td>\n",
       "      <td>https://media.zameen.com/thumbnails/257886252-400x300.jpeg</td>\n",
       "      <td>You can book your House today at an ideal price of PKR Rs. 98,000,000. New house for sale have just popped up, so book an appointment today to find your dream home. Make the most of the opportunity right now of buying a 500 Square Yards property that is readily. This property at Rs. 98,000,000 comes with modern features and latest fittings. With property in Falcon Complex New Malir, you'll live the life of your dreams. Karachi finest property options that fit right into your budget. Read below to find out what this property offers. A private dining room is also included in the property to allow you to have your meals in peace and harmony. You don't have to worry about space anymore with the expansive sitting room that is part of this property. This drawing room lets your family have their privacy while you have formal guests over. The House is smartly designed to include a study room with all the ergonomics in place. Your kids can play to their heart's content in the play area adjoining the property. An effective waste disposal system is in place to keep the surroundings neat and tidy. For complete information about the property, contact us today and our representative will guide you.</td>\n",
       "    </tr>\n",
       "    <tr>\n",
       "      <th>3</th>\n",
       "      <td>Falcon Complex New Malir, Malir</td>\n",
       "      <td>130000000</td>\n",
       "      <td>5</td>\n",
       "      <td>5</td>\n",
       "      <td>4500.0000</td>\n",
       "      <td>https://media.zameen.com/thumbnails/245978731-400x300.jpeg</td>\n",
       "      <td>If you want to buy a property then don't miss out on this opportunity. Falcon Complex New Malir is trending in top searches for a home location, so make a move today to benefit. This 500 Square Yards House is the best real estate asset you can purchase at the moment. Finding a property is difficult but one at RsView Contact Detailis a great offer. If Karachi is your new investment destination, we have the right property for you. By considering the fact you're looking for a House, we would say, your search is now over. Features of property as follow. Feeling stressed? Simply step into the steam room that is part of the House for a few minutes. Plant your favorite fruits and vegetable in the garden, and enjoy them fresh at home. The property has a spacious drawing and dining room to allow you to entertain in style. The sitting room in this listing is perfect for informal gatherings. Large landscaped garden area in the House, where you can set up a coffee table or some sun loungers. Stay connected with your family and friends with the facility of broadband internet access. Kids can freely play at the community garden nearby. You can contact on our given details below to book your appointment.</td>\n",
       "    </tr>\n",
       "    <tr>\n",
       "      <th>4</th>\n",
       "      <td>Falcon Complex New Malir, Malir</td>\n",
       "      <td>81000000</td>\n",
       "      <td>4</td>\n",
       "      <td>5</td>\n",
       "      <td>3150.0000</td>\n",
       "      <td>https://media.zameen.com/thumbnails/260397643-400x300.jpeg</td>\n",
       "      <td>Brand New House Latest Design RCC Structured Bungalow On Sale In Falcon Complex New Malir. Ideally Located House With Imported Fixture And Fitting. All Basic Amenities Are Available In The Society. Security Is Under PAF Administration</td>\n",
       "    </tr>\n",
       "  </tbody>\n",
       "</table>\n",
       "</div>"
      ],
      "text/plain": [
       "                          Location      Price  Bedrooms  Baths      Size  \\\n",
       "0    Askari 5 - Sector F, Askari 5   45000000         3      3 2403.0000   \n",
       "1    Askari 5 - Sector J, Askari 5   45000000         3      4 2502.0000   \n",
       "2  Falcon Complex New Malir, Malir   98000000         5      5 4500.0000   \n",
       "3  Falcon Complex New Malir, Malir  130000000         5      5 4500.0000   \n",
       "4  Falcon Complex New Malir, Malir   81000000         4      5 3150.0000   \n",
       "\n",
       "                                                        Image  \\\n",
       "0  https://media.zameen.com/thumbnails/257046245-400x300.jpeg   \n",
       "1  https://media.zameen.com/thumbnails/257147196-400x300.jpeg   \n",
       "2  https://media.zameen.com/thumbnails/257886252-400x300.jpeg   \n",
       "3  https://media.zameen.com/thumbnails/245978731-400x300.jpeg   \n",
       "4  https://media.zameen.com/thumbnails/260397643-400x300.jpeg   \n",
       "\n",
       "                                                                                                                                                                                                                                                                                                                                                                                                                                                                                                                                                                                                                                                                                                                                                                                                                                                                                                                                                                                                                                                                                                                                                                                                                                                Description  \n",
       "0                                                                                                                                                                                                                                                                                                                                                                                                                                                                                                                                                                                                                                                                                                                                                                                                                                                                                                                                                                            Brand New 2400 Square Feet 3 Bedroom Park Facing Apartment with Attached Bath, Kitchen, Store, Lounge, Drawing Room & Servant Quarter is available for Sale in Askari-V, Malir Cantt Karachi. Located right next to Check Post 5 (Walking Distance) with all amenities nearby.  \n",
       "1                                                                                                                                                                                                                                                                                                                                                                                                                                                                                                                                                                                                                                                                                                                                                                                                                                                                                                                                                                                                                                                                             Brand New 3 Bedroom Apartment with Attached Bath, Kitchen, Store, Lounge, Drawing Room, Servant Quarter & Covered Parking For Sale In Sector-J, Askari-V, Malir Cantt Karachi  \n",
       "2       You can book your House today at an ideal price of PKR Rs. 98,000,000. New house for sale have just popped up, so book an appointment today to find your dream home. Make the most of the opportunity right now of buying a 500 Square Yards property that is readily. This property at Rs. 98,000,000 comes with modern features and latest fittings. With property in Falcon Complex New Malir, you'll live the life of your dreams. Karachi finest property options that fit right into your budget. Read below to find out what this property offers. A private dining room is also included in the property to allow you to have your meals in peace and harmony. You don't have to worry about space anymore with the expansive sitting room that is part of this property. This drawing room lets your family have their privacy while you have formal guests over. The House is smartly designed to include a study room with all the ergonomics in place. Your kids can play to their heart's content in the play area adjoining the property. An effective waste disposal system is in place to keep the surroundings neat and tidy. For complete information about the property, contact us today and our representative will guide you.  \n",
       "3  If you want to buy a property then don't miss out on this opportunity. Falcon Complex New Malir is trending in top searches for a home location, so make a move today to benefit. This 500 Square Yards House is the best real estate asset you can purchase at the moment. Finding a property is difficult but one at RsView Contact Detailis a great offer. If Karachi is your new investment destination, we have the right property for you. By considering the fact you're looking for a House, we would say, your search is now over. Features of property as follow. Feeling stressed? Simply step into the steam room that is part of the House for a few minutes. Plant your favorite fruits and vegetable in the garden, and enjoy them fresh at home. The property has a spacious drawing and dining room to allow you to entertain in style. The sitting room in this listing is perfect for informal gatherings. Large landscaped garden area in the House, where you can set up a coffee table or some sun loungers. Stay connected with your family and friends with the facility of broadband internet access. Kids can freely play at the community garden nearby. You can contact on our given details below to book your appointment.  \n",
       "4                                                                                                                                                                                                                                                                                                                                                                                                                                                                                                                                                                                                                                                                                                                                                                                                                                                                                                                                                                                                                Brand New House Latest Design RCC Structured Bungalow On Sale In Falcon Complex New Malir. Ideally Located House With Imported Fixture And Fitting. All Basic Amenities Are Available In The Society. Security Is Under PAF Administration  "
      ]
     },
     "execution_count": 120,
     "metadata": {},
     "output_type": "execute_result"
    }
   ],
   "source": [
    "df = pd.read_csv(\"karachi_cleaned.csv\")\n",
    "df.head()"
   ]
  },
  {
   "cell_type": "code",
   "execution_count": 121,
   "metadata": {},
   "outputs": [
    {
     "data": {
      "text/plain": [
       "Index(['Location', 'Price', 'Bedrooms', 'Baths', 'Size', 'Image',\n",
       "       'Description'],\n",
       "      dtype='object')"
      ]
     },
     "execution_count": 121,
     "metadata": {},
     "output_type": "execute_result"
    }
   ],
   "source": [
    "df.columns"
   ]
  },
  {
   "cell_type": "code",
   "execution_count": 122,
   "metadata": {},
   "outputs": [
    {
     "data": {
      "text/plain": [
       "Location       object\n",
       "Price           int64\n",
       "                ...  \n",
       "Image          object\n",
       "Description    object\n",
       "Length: 7, dtype: object"
      ]
     },
     "execution_count": 122,
     "metadata": {},
     "output_type": "execute_result"
    }
   ],
   "source": [
    "df.dtypes"
   ]
  },
  {
   "cell_type": "code",
   "execution_count": 123,
   "metadata": {},
   "outputs": [],
   "source": [
    "df = df.drop(\"Image\", axis=1)"
   ]
  },
  {
   "cell_type": "code",
   "execution_count": 124,
   "metadata": {},
   "outputs": [
    {
     "data": {
      "text/plain": [
       "Location        object\n",
       "Price            int64\n",
       "                ...   \n",
       "Size           float64\n",
       "Description     object\n",
       "Length: 6, dtype: object"
      ]
     },
     "execution_count": 124,
     "metadata": {},
     "output_type": "execute_result"
    }
   ],
   "source": [
    "df.dtypes"
   ]
  },
  {
   "cell_type": "code",
   "execution_count": 125,
   "metadata": {},
   "outputs": [],
   "source": [
    "# Convert the column to respective data types\n",
    "df['Price'] = df['Price'].astype(float)\n",
    "df['Bedrooms'] = df['Bedrooms'].astype(float)\n",
    "df['Baths'] = df['Baths'].astype(float)\n",
    "df['Size'] = df['Size'].astype(float)\n",
    "df['Location'] = df['Location'].astype(str)\n",
    "df['Description'] = df['Description'].astype(str)"
   ]
  },
  {
   "cell_type": "code",
   "execution_count": 126,
   "metadata": {},
   "outputs": [
    {
     "data": {
      "text/plain": [
       "Location        object\n",
       "Price          float64\n",
       "                ...   \n",
       "Size           float64\n",
       "Description     object\n",
       "Length: 6, dtype: object"
      ]
     },
     "execution_count": 126,
     "metadata": {},
     "output_type": "execute_result"
    }
   ],
   "source": [
    "df.dtypes"
   ]
  },
  {
   "cell_type": "code",
   "execution_count": 127,
   "metadata": {},
   "outputs": [
    {
     "data": {
      "text/html": [
       "<div>\n",
       "<style scoped>\n",
       "    .dataframe tbody tr th:only-of-type {\n",
       "        vertical-align: middle;\n",
       "    }\n",
       "\n",
       "    .dataframe tbody tr th {\n",
       "        vertical-align: top;\n",
       "    }\n",
       "\n",
       "    .dataframe thead th {\n",
       "        text-align: right;\n",
       "    }\n",
       "</style>\n",
       "<table border=\"1\" class=\"dataframe\">\n",
       "  <thead>\n",
       "    <tr style=\"text-align: right;\">\n",
       "      <th></th>\n",
       "      <th>Location</th>\n",
       "      <th>Price</th>\n",
       "      <th>Bedrooms</th>\n",
       "      <th>Baths</th>\n",
       "      <th>Size</th>\n",
       "      <th>Description</th>\n",
       "    </tr>\n",
       "  </thead>\n",
       "  <tbody>\n",
       "    <tr>\n",
       "      <th>0</th>\n",
       "      <td>Askari 5 - Sector F, Askari 5</td>\n",
       "      <td>45000000.0000</td>\n",
       "      <td>3.0000</td>\n",
       "      <td>3.0000</td>\n",
       "      <td>2403.0000</td>\n",
       "      <td>Brand New 2400 Square Feet 3 Bedroom Park Facing Apartment with Attached Bath, Kitchen, Store, Lounge, Drawing Room &amp; Servant Quarter is available for Sale in Askari-V, Malir Cantt Karachi. Located right next to Check Post 5 (Walking Distance) with all amenities nearby.</td>\n",
       "    </tr>\n",
       "    <tr>\n",
       "      <th>1</th>\n",
       "      <td>Askari 5 - Sector J, Askari 5</td>\n",
       "      <td>45000000.0000</td>\n",
       "      <td>3.0000</td>\n",
       "      <td>4.0000</td>\n",
       "      <td>2502.0000</td>\n",
       "      <td>Brand New 3 Bedroom Apartment with Attached Bath, Kitchen, Store, Lounge, Drawing Room, Servant Quarter &amp; Covered Parking For Sale In Sector-J, Askari-V, Malir Cantt Karachi</td>\n",
       "    </tr>\n",
       "    <tr>\n",
       "      <th>2</th>\n",
       "      <td>Falcon Complex New Malir, Malir</td>\n",
       "      <td>98000000.0000</td>\n",
       "      <td>5.0000</td>\n",
       "      <td>5.0000</td>\n",
       "      <td>4500.0000</td>\n",
       "      <td>You can book your House today at an ideal price of PKR Rs. 98,000,000. New house for sale have just popped up, so book an appointment today to find your dream home. Make the most of the opportunity right now of buying a 500 Square Yards property that is readily. This property at Rs. 98,000,000 comes with modern features and latest fittings. With property in Falcon Complex New Malir, you'll live the life of your dreams. Karachi finest property options that fit right into your budget. Read below to find out what this property offers. A private dining room is also included in the property to allow you to have your meals in peace and harmony. You don't have to worry about space anymore with the expansive sitting room that is part of this property. This drawing room lets your family have their privacy while you have formal guests over. The House is smartly designed to include a study room with all the ergonomics in place. Your kids can play to their heart's content in the play area adjoining the property. An effective waste disposal system is in place to keep the surroundings neat and tidy. For complete information about the property, contact us today and our representative will guide you.</td>\n",
       "    </tr>\n",
       "    <tr>\n",
       "      <th>3</th>\n",
       "      <td>Falcon Complex New Malir, Malir</td>\n",
       "      <td>130000000.0000</td>\n",
       "      <td>5.0000</td>\n",
       "      <td>5.0000</td>\n",
       "      <td>4500.0000</td>\n",
       "      <td>If you want to buy a property then don't miss out on this opportunity. Falcon Complex New Malir is trending in top searches for a home location, so make a move today to benefit. This 500 Square Yards House is the best real estate asset you can purchase at the moment. Finding a property is difficult but one at RsView Contact Detailis a great offer. If Karachi is your new investment destination, we have the right property for you. By considering the fact you're looking for a House, we would say, your search is now over. Features of property as follow. Feeling stressed? Simply step into the steam room that is part of the House for a few minutes. Plant your favorite fruits and vegetable in the garden, and enjoy them fresh at home. The property has a spacious drawing and dining room to allow you to entertain in style. The sitting room in this listing is perfect for informal gatherings. Large landscaped garden area in the House, where you can set up a coffee table or some sun loungers. Stay connected with your family and friends with the facility of broadband internet access. Kids can freely play at the community garden nearby. You can contact on our given details below to book your appointment.</td>\n",
       "    </tr>\n",
       "    <tr>\n",
       "      <th>4</th>\n",
       "      <td>Falcon Complex New Malir, Malir</td>\n",
       "      <td>81000000.0000</td>\n",
       "      <td>4.0000</td>\n",
       "      <td>5.0000</td>\n",
       "      <td>3150.0000</td>\n",
       "      <td>Brand New House Latest Design RCC Structured Bungalow On Sale In Falcon Complex New Malir. Ideally Located House With Imported Fixture And Fitting. All Basic Amenities Are Available In The Society. Security Is Under PAF Administration</td>\n",
       "    </tr>\n",
       "  </tbody>\n",
       "</table>\n",
       "</div>"
      ],
      "text/plain": [
       "                          Location          Price  Bedrooms  Baths      Size  \\\n",
       "0    Askari 5 - Sector F, Askari 5  45000000.0000    3.0000 3.0000 2403.0000   \n",
       "1    Askari 5 - Sector J, Askari 5  45000000.0000    3.0000 4.0000 2502.0000   \n",
       "2  Falcon Complex New Malir, Malir  98000000.0000    5.0000 5.0000 4500.0000   \n",
       "3  Falcon Complex New Malir, Malir 130000000.0000    5.0000 5.0000 4500.0000   \n",
       "4  Falcon Complex New Malir, Malir  81000000.0000    4.0000 5.0000 3150.0000   \n",
       "\n",
       "                                                                                                                                                                                                                                                                                                                                                                                                                                                                                                                                                                                                                                                                                                                                                                                                                                                                                                                                                                                                                                                                                                                                                                                                                                                Description  \n",
       "0                                                                                                                                                                                                                                                                                                                                                                                                                                                                                                                                                                                                                                                                                                                                                                                                                                                                                                                                                                            Brand New 2400 Square Feet 3 Bedroom Park Facing Apartment with Attached Bath, Kitchen, Store, Lounge, Drawing Room & Servant Quarter is available for Sale in Askari-V, Malir Cantt Karachi. Located right next to Check Post 5 (Walking Distance) with all amenities nearby.  \n",
       "1                                                                                                                                                                                                                                                                                                                                                                                                                                                                                                                                                                                                                                                                                                                                                                                                                                                                                                                                                                                                                                                                             Brand New 3 Bedroom Apartment with Attached Bath, Kitchen, Store, Lounge, Drawing Room, Servant Quarter & Covered Parking For Sale In Sector-J, Askari-V, Malir Cantt Karachi  \n",
       "2       You can book your House today at an ideal price of PKR Rs. 98,000,000. New house for sale have just popped up, so book an appointment today to find your dream home. Make the most of the opportunity right now of buying a 500 Square Yards property that is readily. This property at Rs. 98,000,000 comes with modern features and latest fittings. With property in Falcon Complex New Malir, you'll live the life of your dreams. Karachi finest property options that fit right into your budget. Read below to find out what this property offers. A private dining room is also included in the property to allow you to have your meals in peace and harmony. You don't have to worry about space anymore with the expansive sitting room that is part of this property. This drawing room lets your family have their privacy while you have formal guests over. The House is smartly designed to include a study room with all the ergonomics in place. Your kids can play to their heart's content in the play area adjoining the property. An effective waste disposal system is in place to keep the surroundings neat and tidy. For complete information about the property, contact us today and our representative will guide you.  \n",
       "3  If you want to buy a property then don't miss out on this opportunity. Falcon Complex New Malir is trending in top searches for a home location, so make a move today to benefit. This 500 Square Yards House is the best real estate asset you can purchase at the moment. Finding a property is difficult but one at RsView Contact Detailis a great offer. If Karachi is your new investment destination, we have the right property for you. By considering the fact you're looking for a House, we would say, your search is now over. Features of property as follow. Feeling stressed? Simply step into the steam room that is part of the House for a few minutes. Plant your favorite fruits and vegetable in the garden, and enjoy them fresh at home. The property has a spacious drawing and dining room to allow you to entertain in style. The sitting room in this listing is perfect for informal gatherings. Large landscaped garden area in the House, where you can set up a coffee table or some sun loungers. Stay connected with your family and friends with the facility of broadband internet access. Kids can freely play at the community garden nearby. You can contact on our given details below to book your appointment.  \n",
       "4                                                                                                                                                                                                                                                                                                                                                                                                                                                                                                                                                                                                                                                                                                                                                                                                                                                                                                                                                                                                                Brand New House Latest Design RCC Structured Bungalow On Sale In Falcon Complex New Malir. Ideally Located House With Imported Fixture And Fitting. All Basic Amenities Are Available In The Society. Security Is Under PAF Administration  "
      ]
     },
     "execution_count": 127,
     "metadata": {},
     "output_type": "execute_result"
    }
   ],
   "source": [
    "df.head()"
   ]
  },
  {
   "cell_type": "code",
   "execution_count": 128,
   "metadata": {},
   "outputs": [],
   "source": [
    "# # Splitting the single column into multiple columns based on the separator \"|\"\n",
    "# split_columns = data['location|price|bedrooms|baths|size'].str.split('|', expand=True)\n",
    "# split_columns.columns = ['Location', 'Price', 'Bedrooms', 'Baths', 'Size']\n",
    "\n",
    "# # Converting columns to appropriate data types\n",
    "# split_columns['Price'] = pd.to_numeric(split_columns['Price'].str.replace('[^\\d.]', ''), errors='coerce')\n",
    "# split_columns['Bedrooms'] = pd.to_numeric(split_columns['Bedrooms'], errors='coerce')\n",
    "# split_columns['Baths'] = pd.to_numeric(split_columns['Baths'], errors='coerce')\n",
    "# split_columns['Size'] = pd.to_numeric(split_columns['Size'], errors='coerce')\n",
    "\n",
    "# # Display the structured and typed dataframe\n",
    "# print(split_columns.head())\n",
    "\n",
    "# Optionally, save the cleaned and structured data to a new CSV file\n",
    "cleaned_file_path = './cleaned_khi.csv'\n",
    "df.to_csv(cleaned_file_path, index=False)\n"
   ]
  },
  {
   "cell_type": "code",
   "execution_count": 129,
   "metadata": {},
   "outputs": [
    {
     "data": {
      "text/html": [
       "<div>\n",
       "<style scoped>\n",
       "    .dataframe tbody tr th:only-of-type {\n",
       "        vertical-align: middle;\n",
       "    }\n",
       "\n",
       "    .dataframe tbody tr th {\n",
       "        vertical-align: top;\n",
       "    }\n",
       "\n",
       "    .dataframe thead th {\n",
       "        text-align: right;\n",
       "    }\n",
       "</style>\n",
       "<table border=\"1\" class=\"dataframe\">\n",
       "  <thead>\n",
       "    <tr style=\"text-align: right;\">\n",
       "      <th></th>\n",
       "      <th>Location</th>\n",
       "      <th>Price</th>\n",
       "      <th>Bedrooms</th>\n",
       "      <th>Baths</th>\n",
       "      <th>Size</th>\n",
       "      <th>Description</th>\n",
       "    </tr>\n",
       "  </thead>\n",
       "  <tbody>\n",
       "    <tr>\n",
       "      <th>0</th>\n",
       "      <td>Askari 5 - Sector F, Askari 5</td>\n",
       "      <td>45000000.0000</td>\n",
       "      <td>3.0000</td>\n",
       "      <td>3.0000</td>\n",
       "      <td>2403.0000</td>\n",
       "      <td>Brand New 2400 Square Feet 3 Bedroom Park Facing Apartment with Attached Bath, Kitchen, Store, Lounge, Drawing Room &amp; Servant Quarter is available for Sale in Askari-V, Malir Cantt Karachi. Located right next to Check Post 5 (Walking Distance) with all amenities nearby.</td>\n",
       "    </tr>\n",
       "    <tr>\n",
       "      <th>1</th>\n",
       "      <td>Askari 5 - Sector J, Askari 5</td>\n",
       "      <td>45000000.0000</td>\n",
       "      <td>3.0000</td>\n",
       "      <td>4.0000</td>\n",
       "      <td>2502.0000</td>\n",
       "      <td>Brand New 3 Bedroom Apartment with Attached Bath, Kitchen, Store, Lounge, Drawing Room, Servant Quarter &amp; Covered Parking For Sale In Sector-J, Askari-V, Malir Cantt Karachi</td>\n",
       "    </tr>\n",
       "    <tr>\n",
       "      <th>2</th>\n",
       "      <td>Falcon Complex New Malir, Malir</td>\n",
       "      <td>98000000.0000</td>\n",
       "      <td>5.0000</td>\n",
       "      <td>5.0000</td>\n",
       "      <td>4500.0000</td>\n",
       "      <td>You can book your House today at an ideal price of PKR Rs. 98,000,000. New house for sale have just popped up, so book an appointment today to find your dream home. Make the most of the opportunity right now of buying a 500 Square Yards property that is readily. This property at Rs. 98,000,000 comes with modern features and latest fittings. With property in Falcon Complex New Malir, you'll live the life of your dreams. Karachi finest property options that fit right into your budget. Read below to find out what this property offers. A private dining room is also included in the property to allow you to have your meals in peace and harmony. You don't have to worry about space anymore with the expansive sitting room that is part of this property. This drawing room lets your family have their privacy while you have formal guests over. The House is smartly designed to include a study room with all the ergonomics in place. Your kids can play to their heart's content in the play area adjoining the property. An effective waste disposal system is in place to keep the surroundings neat and tidy. For complete information about the property, contact us today and our representative will guide you.</td>\n",
       "    </tr>\n",
       "    <tr>\n",
       "      <th>3</th>\n",
       "      <td>Falcon Complex New Malir, Malir</td>\n",
       "      <td>130000000.0000</td>\n",
       "      <td>5.0000</td>\n",
       "      <td>5.0000</td>\n",
       "      <td>4500.0000</td>\n",
       "      <td>If you want to buy a property then don't miss out on this opportunity. Falcon Complex New Malir is trending in top searches for a home location, so make a move today to benefit. This 500 Square Yards House is the best real estate asset you can purchase at the moment. Finding a property is difficult but one at RsView Contact Detailis a great offer. If Karachi is your new investment destination, we have the right property for you. By considering the fact you're looking for a House, we would say, your search is now over. Features of property as follow. Feeling stressed? Simply step into the steam room that is part of the House for a few minutes. Plant your favorite fruits and vegetable in the garden, and enjoy them fresh at home. The property has a spacious drawing and dining room to allow you to entertain in style. The sitting room in this listing is perfect for informal gatherings. Large landscaped garden area in the House, where you can set up a coffee table or some sun loungers. Stay connected with your family and friends with the facility of broadband internet access. Kids can freely play at the community garden nearby. You can contact on our given details below to book your appointment.</td>\n",
       "    </tr>\n",
       "    <tr>\n",
       "      <th>4</th>\n",
       "      <td>Falcon Complex New Malir, Malir</td>\n",
       "      <td>81000000.0000</td>\n",
       "      <td>4.0000</td>\n",
       "      <td>5.0000</td>\n",
       "      <td>3150.0000</td>\n",
       "      <td>Brand New House Latest Design RCC Structured Bungalow On Sale In Falcon Complex New Malir. Ideally Located House With Imported Fixture And Fitting. All Basic Amenities Are Available In The Society. Security Is Under PAF Administration</td>\n",
       "    </tr>\n",
       "  </tbody>\n",
       "</table>\n",
       "</div>"
      ],
      "text/plain": [
       "                          Location          Price  Bedrooms  Baths      Size  \\\n",
       "0    Askari 5 - Sector F, Askari 5  45000000.0000    3.0000 3.0000 2403.0000   \n",
       "1    Askari 5 - Sector J, Askari 5  45000000.0000    3.0000 4.0000 2502.0000   \n",
       "2  Falcon Complex New Malir, Malir  98000000.0000    5.0000 5.0000 4500.0000   \n",
       "3  Falcon Complex New Malir, Malir 130000000.0000    5.0000 5.0000 4500.0000   \n",
       "4  Falcon Complex New Malir, Malir  81000000.0000    4.0000 5.0000 3150.0000   \n",
       "\n",
       "                                                                                                                                                                                                                                                                                                                                                                                                                                                                                                                                                                                                                                                                                                                                                                                                                                                                                                                                                                                                                                                                                                                                                                                                                                                Description  \n",
       "0                                                                                                                                                                                                                                                                                                                                                                                                                                                                                                                                                                                                                                                                                                                                                                                                                                                                                                                                                                            Brand New 2400 Square Feet 3 Bedroom Park Facing Apartment with Attached Bath, Kitchen, Store, Lounge, Drawing Room & Servant Quarter is available for Sale in Askari-V, Malir Cantt Karachi. Located right next to Check Post 5 (Walking Distance) with all amenities nearby.  \n",
       "1                                                                                                                                                                                                                                                                                                                                                                                                                                                                                                                                                                                                                                                                                                                                                                                                                                                                                                                                                                                                                                                                             Brand New 3 Bedroom Apartment with Attached Bath, Kitchen, Store, Lounge, Drawing Room, Servant Quarter & Covered Parking For Sale In Sector-J, Askari-V, Malir Cantt Karachi  \n",
       "2       You can book your House today at an ideal price of PKR Rs. 98,000,000. New house for sale have just popped up, so book an appointment today to find your dream home. Make the most of the opportunity right now of buying a 500 Square Yards property that is readily. This property at Rs. 98,000,000 comes with modern features and latest fittings. With property in Falcon Complex New Malir, you'll live the life of your dreams. Karachi finest property options that fit right into your budget. Read below to find out what this property offers. A private dining room is also included in the property to allow you to have your meals in peace and harmony. You don't have to worry about space anymore with the expansive sitting room that is part of this property. This drawing room lets your family have their privacy while you have formal guests over. The House is smartly designed to include a study room with all the ergonomics in place. Your kids can play to their heart's content in the play area adjoining the property. An effective waste disposal system is in place to keep the surroundings neat and tidy. For complete information about the property, contact us today and our representative will guide you.  \n",
       "3  If you want to buy a property then don't miss out on this opportunity. Falcon Complex New Malir is trending in top searches for a home location, so make a move today to benefit. This 500 Square Yards House is the best real estate asset you can purchase at the moment. Finding a property is difficult but one at RsView Contact Detailis a great offer. If Karachi is your new investment destination, we have the right property for you. By considering the fact you're looking for a House, we would say, your search is now over. Features of property as follow. Feeling stressed? Simply step into the steam room that is part of the House for a few minutes. Plant your favorite fruits and vegetable in the garden, and enjoy them fresh at home. The property has a spacious drawing and dining room to allow you to entertain in style. The sitting room in this listing is perfect for informal gatherings. Large landscaped garden area in the House, where you can set up a coffee table or some sun loungers. Stay connected with your family and friends with the facility of broadband internet access. Kids can freely play at the community garden nearby. You can contact on our given details below to book your appointment.  \n",
       "4                                                                                                                                                                                                                                                                                                                                                                                                                                                                                                                                                                                                                                                                                                                                                                                                                                                                                                                                                                                                                Brand New House Latest Design RCC Structured Bungalow On Sale In Falcon Complex New Malir. Ideally Located House With Imported Fixture And Fitting. All Basic Amenities Are Available In The Society. Security Is Under PAF Administration  "
      ]
     },
     "execution_count": 129,
     "metadata": {},
     "output_type": "execute_result"
    }
   ],
   "source": [
    "df = pd.read_csv(\"cleaned_khi.csv\")\n",
    "df.head()"
   ]
  },
  {
   "cell_type": "code",
   "execution_count": 130,
   "metadata": {},
   "outputs": [
    {
     "data": {
      "text/plain": [
       "(17106, 6)"
      ]
     },
     "execution_count": 130,
     "metadata": {},
     "output_type": "execute_result"
    }
   ],
   "source": [
    "df.shape"
   ]
  },
  {
   "cell_type": "code",
   "execution_count": 131,
   "metadata": {},
   "outputs": [],
   "source": [
    "df.rename(columns={\"Price\":\"asking_price\", \"Size\" : \"size(sqft)\"} , inplace=True)"
   ]
  },
  {
   "cell_type": "code",
   "execution_count": 132,
   "metadata": {},
   "outputs": [
    {
     "data": {
      "text/html": [
       "<div>\n",
       "<style scoped>\n",
       "    .dataframe tbody tr th:only-of-type {\n",
       "        vertical-align: middle;\n",
       "    }\n",
       "\n",
       "    .dataframe tbody tr th {\n",
       "        vertical-align: top;\n",
       "    }\n",
       "\n",
       "    .dataframe thead th {\n",
       "        text-align: right;\n",
       "    }\n",
       "</style>\n",
       "<table border=\"1\" class=\"dataframe\">\n",
       "  <thead>\n",
       "    <tr style=\"text-align: right;\">\n",
       "      <th></th>\n",
       "      <th>Location</th>\n",
       "      <th>asking_price</th>\n",
       "      <th>Bedrooms</th>\n",
       "      <th>Baths</th>\n",
       "      <th>size(sqft)</th>\n",
       "      <th>Description</th>\n",
       "    </tr>\n",
       "  </thead>\n",
       "  <tbody>\n",
       "    <tr>\n",
       "      <th>0</th>\n",
       "      <td>Askari 5 - Sector F, Askari 5</td>\n",
       "      <td>45000000.0000</td>\n",
       "      <td>3.0000</td>\n",
       "      <td>3.0000</td>\n",
       "      <td>2403.0000</td>\n",
       "      <td>Brand New 2400 Square Feet 3 Bedroom Park Facing Apartment with Attached Bath, Kitchen, Store, Lounge, Drawing Room &amp; Servant Quarter is available for Sale in Askari-V, Malir Cantt Karachi. Located right next to Check Post 5 (Walking Distance) with all amenities nearby.</td>\n",
       "    </tr>\n",
       "    <tr>\n",
       "      <th>1</th>\n",
       "      <td>Askari 5 - Sector J, Askari 5</td>\n",
       "      <td>45000000.0000</td>\n",
       "      <td>3.0000</td>\n",
       "      <td>4.0000</td>\n",
       "      <td>2502.0000</td>\n",
       "      <td>Brand New 3 Bedroom Apartment with Attached Bath, Kitchen, Store, Lounge, Drawing Room, Servant Quarter &amp; Covered Parking For Sale In Sector-J, Askari-V, Malir Cantt Karachi</td>\n",
       "    </tr>\n",
       "    <tr>\n",
       "      <th>...</th>\n",
       "      <td>...</td>\n",
       "      <td>...</td>\n",
       "      <td>...</td>\n",
       "      <td>...</td>\n",
       "      <td>...</td>\n",
       "      <td>...</td>\n",
       "    </tr>\n",
       "    <tr>\n",
       "      <th>18</th>\n",
       "      <td>Gulshan-e-Iqbal - Block 13-D2, Gulshan-e-Iqbal</td>\n",
       "      <td>32500000.0000</td>\n",
       "      <td>6.0000</td>\n",
       "      <td>6.0000</td>\n",
       "      <td>1080.0000</td>\n",
       "      <td>Ground Plus Two House For Sale  (Pictures Are Real)120/Yards LOCATED: Gulshan-e-Iqbal Block 13D-2 Near Hasan square back side railway crossing Waseem Bagh Back Side (Ground Floor 2 bed d d Washing Area Kitchen 1st Floor 2 bed d d Terrace Kitchen 2nd Floor 2 bed lounge n open terrace Roof with shadeGated society)West Open Full Air Ventilation 6Bed D. DAttached Bath Tiles &amp; Marbles Flooring Mix24/Hrs Sweet Water 24/Hrs ElectrictyReady To Move Neat And Clean Environment Bondry Wall Society Big Terrace Security Staff AvailableWell Maintained West OpenLeased Separate EntranceSeparate MetresIdeal Location Features:*Well Maintained House*No Load-shedding Of Electricity &amp;: Gas, sweet Water. American Kitchen*Open Gallery, West Open*All Rooms Have 2 Windows,Fully Airy And Light During Daytime,*Entrance Coverd With Powerful And Secure Grills From The Entrance*Security Guards Are Available At The Main Entrance And are Helpful For Any Assistance. Contact To Visit The Property Location With Family. (Call Before Half An Hour to visit The LocationFor Further Details ContactsElite Estate Agency</td>\n",
       "    </tr>\n",
       "    <tr>\n",
       "      <th>19</th>\n",
       "      <td>Gulshan-e-Iqbal - Block 13/D-3, Gulshan-e-Iqbal</td>\n",
       "      <td>12500000.0000</td>\n",
       "      <td>2.0000</td>\n",
       "      <td>2.0000</td>\n",
       "      <td>1053.0000</td>\n",
       "      <td>!Brand New!16th Floor Flat For Sale  (Pictures Are Real)LOCATED: Gulshan-e-Iqbal Block 13-E Near Hasan square back side1050/SQ/FTWest Open Full Air Ventilation 2Bed D. DAmerican Kitchen Tiles Flooring !Property Specifications!-2Bedrooms With Attached Bath -Lounge -Drawing Room-Lift Available -Cargo Lift Available -2 Balconys-Swimming Pool-Gym-Park-Majid -Peace Full Environment -Dual Entrance 24/Hrs Water Supply 24/Hrs ElectrictyReady To Move Bondry Wall ProjectNeat And Clean Environment Security Staff AvailableAll Facility On Your Door StepLeased Ideal LocationFeatures:*Well Maintained Flat *No Load-shedding Of Electricity &amp;: Gas, sweet Water. American Kitchen*Gallery, West Open*All Rooms Have 2 Windows,Fully Airy And Light During Daytime,*Entrance Coverd With Powerful And Secure Grills From The Entrance*Security Guards Are Available At The Main Entrance And are Helpful For Any Assistance. Contact To Visit The Property Location With Family. (Call Before Half An Hour to visit The LocationFor Further Details ContactsElite Estate Agency</td>\n",
       "    </tr>\n",
       "  </tbody>\n",
       "</table>\n",
       "<p>20 rows × 6 columns</p>\n",
       "</div>"
      ],
      "text/plain": [
       "                                           Location  asking_price  Bedrooms  \\\n",
       "0                     Askari 5 - Sector F, Askari 5 45000000.0000    3.0000   \n",
       "1                     Askari 5 - Sector J, Askari 5 45000000.0000    3.0000   \n",
       "..                                              ...           ...       ...   \n",
       "18   Gulshan-e-Iqbal - Block 13-D2, Gulshan-e-Iqbal 32500000.0000    6.0000   \n",
       "19  Gulshan-e-Iqbal - Block 13/D-3, Gulshan-e-Iqbal 12500000.0000    2.0000   \n",
       "\n",
       "    Baths  size(sqft)  \\\n",
       "0  3.0000   2403.0000   \n",
       "1  4.0000   2502.0000   \n",
       "..    ...         ...   \n",
       "18 6.0000   1080.0000   \n",
       "19 2.0000   1053.0000   \n",
       "\n",
       "                                                                                                                                                                                                                                                                                                                                                                                                                                                                                                                                                                                                                                                                                                                                                                                                                                                                                                                                                                                                                                                                                                                               Description  \n",
       "0                                                                                                                                                                                                                                                                                                                                                                                                                                                                                                                                                                                                                                                                                                                                                                                                                                                           Brand New 2400 Square Feet 3 Bedroom Park Facing Apartment with Attached Bath, Kitchen, Store, Lounge, Drawing Room & Servant Quarter is available for Sale in Askari-V, Malir Cantt Karachi. Located right next to Check Post 5 (Walking Distance) with all amenities nearby.  \n",
       "1                                                                                                                                                                                                                                                                                                                                                                                                                                                                                                                                                                                                                                                                                                                                                                                                                                                                                                                                                            Brand New 3 Bedroom Apartment with Attached Bath, Kitchen, Store, Lounge, Drawing Room, Servant Quarter & Covered Parking For Sale In Sector-J, Askari-V, Malir Cantt Karachi  \n",
       "..                                                                                                                                                                                                                                                                                                                                                                                                                                                                                                                                                                                                                                                                                                                                                                                                                                                                                                                                                                                                                                                                                                                                     ...  \n",
       "18  Ground Plus Two House For Sale  (Pictures Are Real)120/Yards LOCATED: Gulshan-e-Iqbal Block 13D-2 Near Hasan square back side railway crossing Waseem Bagh Back Side (Ground Floor 2 bed d d Washing Area Kitchen 1st Floor 2 bed d d Terrace Kitchen 2nd Floor 2 bed lounge n open terrace Roof with shadeGated society)West Open Full Air Ventilation 6Bed D. DAttached Bath Tiles & Marbles Flooring Mix24/Hrs Sweet Water 24/Hrs ElectrictyReady To Move Neat And Clean Environment Bondry Wall Society Big Terrace Security Staff AvailableWell Maintained West OpenLeased Separate EntranceSeparate MetresIdeal Location Features:*Well Maintained House*No Load-shedding Of Electricity &: Gas, sweet Water. American Kitchen*Open Gallery, West Open*All Rooms Have 2 Windows,Fully Airy And Light During Daytime,*Entrance Coverd With Powerful And Secure Grills From The Entrance*Security Guards Are Available At The Main Entrance And are Helpful For Any Assistance. Contact To Visit The Property Location With Family. (Call Before Half An Hour to visit The LocationFor Further Details ContactsElite Estate Agency  \n",
       "19                                               !Brand New!16th Floor Flat For Sale  (Pictures Are Real)LOCATED: Gulshan-e-Iqbal Block 13-E Near Hasan square back side1050/SQ/FTWest Open Full Air Ventilation 2Bed D. DAmerican Kitchen Tiles Flooring !Property Specifications!-2Bedrooms With Attached Bath -Lounge -Drawing Room-Lift Available -Cargo Lift Available -2 Balconys-Swimming Pool-Gym-Park-Majid -Peace Full Environment -Dual Entrance 24/Hrs Water Supply 24/Hrs ElectrictyReady To Move Bondry Wall ProjectNeat And Clean Environment Security Staff AvailableAll Facility On Your Door StepLeased Ideal LocationFeatures:*Well Maintained Flat *No Load-shedding Of Electricity &: Gas, sweet Water. American Kitchen*Gallery, West Open*All Rooms Have 2 Windows,Fully Airy And Light During Daytime,*Entrance Coverd With Powerful And Secure Grills From The Entrance*Security Guards Are Available At The Main Entrance And are Helpful For Any Assistance. Contact To Visit The Property Location With Family. (Call Before Half An Hour to visit The LocationFor Further Details ContactsElite Estate Agency  \n",
       "\n",
       "[20 rows x 6 columns]"
      ]
     },
     "execution_count": 132,
     "metadata": {},
     "output_type": "execute_result"
    }
   ],
   "source": [
    "df.head(20)"
   ]
  },
  {
   "cell_type": "markdown",
   "metadata": {},
   "source": [
    "Average price for all listings"
   ]
  },
  {
   "cell_type": "code",
   "execution_count": 133,
   "metadata": {},
   "outputs": [
    {
     "data": {
      "text/plain": [
       "52215393.19537005"
      ]
     },
     "execution_count": 133,
     "metadata": {},
     "output_type": "execute_result"
    }
   ],
   "source": [
    "df[\"asking_price\"].mean()\n"
   ]
  },
  {
   "cell_type": "markdown",
   "metadata": {},
   "source": [
    "Median price for all listings"
   ]
  },
  {
   "cell_type": "code",
   "execution_count": 134,
   "metadata": {},
   "outputs": [
    {
     "data": {
      "text/plain": [
       "29500000.0"
      ]
     },
     "execution_count": 134,
     "metadata": {},
     "output_type": "execute_result"
    }
   ],
   "source": [
    "df[\"asking_price\"].median()\n"
   ]
  },
  {
   "cell_type": "markdown",
   "metadata": {},
   "source": [
    "Mode price for all listings"
   ]
  },
  {
   "cell_type": "code",
   "execution_count": 135,
   "metadata": {},
   "outputs": [
    {
     "data": {
      "text/plain": [
       "0   25000000.0000\n",
       "Name: asking_price, dtype: float64"
      ]
     },
     "execution_count": 135,
     "metadata": {},
     "output_type": "execute_result"
    }
   ],
   "source": [
    "df[\"asking_price\"].mode()"
   ]
  },
  {
   "cell_type": "markdown",
   "metadata": {},
   "source": [
    "### Visualization: Show the distribution for house lower than 20 milion   "
   ]
  },
  {
   "cell_type": "code",
   "execution_count": 136,
   "metadata": {},
   "outputs": [],
   "source": [
    "price_lowerthan=50000000\n",
    "num_bins=40"
   ]
  },
  {
   "cell_type": "code",
   "execution_count": 137,
   "metadata": {},
   "outputs": [
    {
     "name": "stdout",
     "output_type": "stream",
     "text": [
      "Requirement already satisfied: seaborn in /Applications/miniconda3/envs/python_ml/lib/python3.11/site-packages (0.13.2)\n",
      "Requirement already satisfied: numpy!=1.24.0,>=1.20 in /Applications/miniconda3/envs/python_ml/lib/python3.11/site-packages (from seaborn) (1.26.4)\n",
      "Requirement already satisfied: pandas>=1.2 in /Applications/miniconda3/envs/python_ml/lib/python3.11/site-packages (from seaborn) (2.2.0)\n",
      "Requirement already satisfied: matplotlib!=3.6.1,>=3.4 in /Applications/miniconda3/envs/python_ml/lib/python3.11/site-packages (from seaborn) (3.8.2)\n",
      "Requirement already satisfied: contourpy>=1.0.1 in /Applications/miniconda3/envs/python_ml/lib/python3.11/site-packages (from matplotlib!=3.6.1,>=3.4->seaborn) (1.2.0)\n",
      "Requirement already satisfied: cycler>=0.10 in /Applications/miniconda3/envs/python_ml/lib/python3.11/site-packages (from matplotlib!=3.6.1,>=3.4->seaborn) (0.12.1)\n",
      "Requirement already satisfied: fonttools>=4.22.0 in /Applications/miniconda3/envs/python_ml/lib/python3.11/site-packages (from matplotlib!=3.6.1,>=3.4->seaborn) (4.48.1)\n",
      "Requirement already satisfied: kiwisolver>=1.3.1 in /Applications/miniconda3/envs/python_ml/lib/python3.11/site-packages (from matplotlib!=3.6.1,>=3.4->seaborn) (1.4.5)\n",
      "Requirement already satisfied: packaging>=20.0 in /Applications/miniconda3/envs/python_ml/lib/python3.11/site-packages (from matplotlib!=3.6.1,>=3.4->seaborn) (23.2)\n",
      "Requirement already satisfied: pillow>=8 in /Applications/miniconda3/envs/python_ml/lib/python3.11/site-packages (from matplotlib!=3.6.1,>=3.4->seaborn) (10.2.0)\n",
      "Requirement already satisfied: pyparsing>=2.3.1 in /Applications/miniconda3/envs/python_ml/lib/python3.11/site-packages (from matplotlib!=3.6.1,>=3.4->seaborn) (3.1.1)\n",
      "Requirement already satisfied: python-dateutil>=2.7 in /Applications/miniconda3/envs/python_ml/lib/python3.11/site-packages (from matplotlib!=3.6.1,>=3.4->seaborn) (2.8.2)\n",
      "Requirement already satisfied: pytz>=2020.1 in /Applications/miniconda3/envs/python_ml/lib/python3.11/site-packages (from pandas>=1.2->seaborn) (2024.1)\n",
      "Requirement already satisfied: tzdata>=2022.7 in /Applications/miniconda3/envs/python_ml/lib/python3.11/site-packages (from pandas>=1.2->seaborn) (2024.1)\n",
      "Requirement already satisfied: six>=1.5 in /Applications/miniconda3/envs/python_ml/lib/python3.11/site-packages (from python-dateutil>=2.7->matplotlib!=3.6.1,>=3.4->seaborn) (1.16.0)\n"
     ]
    }
   ],
   "source": [
    "!pip install seaborn"
   ]
  },
  {
   "cell_type": "code",
   "execution_count": 138,
   "metadata": {},
   "outputs": [
    {
     "name": "stderr",
     "output_type": "stream",
     "text": [
      "/var/folders/y8/x9285djn4dq833k8_7gw_7_00000gn/T/ipykernel_12166/3190041838.py:4: UserWarning: \n",
      "\n",
      "`distplot` is a deprecated function and will be removed in seaborn v0.14.0.\n",
      "\n",
      "Please adapt your code to use either `displot` (a figure-level function with\n",
      "similar flexibility) or `histplot` (an axes-level function for histograms).\n",
      "\n",
      "For a guide to updating your code to use the new functions, please see\n",
      "https://gist.github.com/mwaskom/de44147ed2974457ad6372750bbe5751\n",
      "\n",
      "  sns.distplot(\n"
     ]
    },
    {
     "data": {
      "image/png": "[encoded data removed]",
      "text/plain": [
       "<Figure size 2000x800 with 1 Axes>"
      ]
     },
     "metadata": {},
     "output_type": "display_data"
    }
   ],
   "source": [
    "import seaborn as sns\n",
    "\n",
    "sns.set(style='whitegrid', palette=\"deep\", font_scale=1.1, rc={\"figure.figsize\": [20, 8]})\n",
    "sns.distplot(\n",
    "    df[df['asking_price']<=price_lowerthan]['asking_price'], norm_hist=False, kde=True, bins=num_bins, hist_kws={\"alpha\": 1}).set(xlabel='price', ylabel='count',xlim=(1000000,price_lowerthan+10000000));"
   ]
  },
  {
   "cell_type": "markdown",
   "metadata": {},
   "source": [
    "## Check the distribution for Bedrooms"
   ]
  },
  {
   "cell_type": "code",
   "execution_count": 139,
   "metadata": {},
   "outputs": [
    {
     "data": {
      "text/plain": [
       "<seaborn.axisgrid.FacetGrid at 0x135f196d0>"
      ]
     },
     "execution_count": 139,
     "metadata": {},
     "output_type": "execute_result"
    },
    {
     "data": {
      "image/png": "[encoded data removed]",
      "text/plain": [
       "<Figure size 2097.44x1000 with 1 Axes>"
      ]
     },
     "metadata": {},
     "output_type": "display_data"
    }
   ],
   "source": [
    "sns.displot(df[df[\"asking_price\"]<=10000000], x=\"asking_price\", hue=\"Bedrooms\", multiple=\"stack\",bins=20,\n",
    "            height=10, aspect=2, palette='colorblind')"
   ]
  },
  {
   "cell_type": "markdown",
   "metadata": {},
   "source": [
    "### check bathrooms"
   ]
  },
  {
   "cell_type": "code",
   "execution_count": 140,
   "metadata": {},
   "outputs": [
    {
     "data": {
      "text/plain": [
       "<seaborn.axisgrid.FacetGrid at 0x1366bf1d0>"
      ]
     },
     "execution_count": 140,
     "metadata": {},
     "output_type": "execute_result"
    },
    {
     "data": {
      "image/png": "[encoded data removed]",
      "text/plain": [
       "<Figure size 2083.88x1000 with 1 Axes>"
      ]
     },
     "metadata": {},
     "output_type": "display_data"
    }
   ],
   "source": [
    "sns.displot(df[df[\"asking_price\"]<=10000000], x=\"asking_price\", hue=\"Baths\", multiple=\"stack\",bins=20,\n",
    "            height=10, aspect=2, palette='colorblind')"
   ]
  },
  {
   "cell_type": "code",
   "execution_count": 141,
   "metadata": {},
   "outputs": [
    {
     "data": {
      "text/plain": [
       "['Location', 'asking_price', 'Bedrooms', 'Baths', 'size(sqft)', 'Description']"
      ]
     },
     "execution_count": 141,
     "metadata": {},
     "output_type": "execute_result"
    }
   ],
   "source": [
    "cols = df.columns.tolist()\n",
    "cols"
   ]
  },
  {
   "cell_type": "code",
   "execution_count": 142,
   "metadata": {},
   "outputs": [],
   "source": [
    "#show full content in description boxes\n",
    "pd.set_option(\"display.max_colwidth\", None)"
   ]
  },
  {
   "cell_type": "code",
   "execution_count": null,
   "metadata": {},
   "outputs": [],
   "source": [
    "# df.loc[(df['Description'].str.contains('semi-detached', case=False))] = 'Duplex'\n"
   ]
  },
  {
   "cell_type": "code",
   "execution_count": 143,
   "metadata": {},
   "outputs": [
    {
     "data": {
      "text/html": [
       "<div>\n",
       "<style scoped>\n",
       "    .dataframe tbody tr th:only-of-type {\n",
       "        vertical-align: middle;\n",
       "    }\n",
       "\n",
       "    .dataframe tbody tr th {\n",
       "        vertical-align: top;\n",
       "    }\n",
       "\n",
       "    .dataframe thead th {\n",
       "        text-align: right;\n",
       "    }\n",
       "</style>\n",
       "<table border=\"1\" class=\"dataframe\">\n",
       "  <thead>\n",
       "    <tr style=\"text-align: right;\">\n",
       "      <th></th>\n",
       "      <th>Location</th>\n",
       "      <th>asking_price</th>\n",
       "      <th>Bedrooms</th>\n",
       "      <th>Baths</th>\n",
       "      <th>size(sqft)</th>\n",
       "      <th>Description</th>\n",
       "    </tr>\n",
       "  </thead>\n",
       "  <tbody>\n",
       "    <tr>\n",
       "      <th>0</th>\n",
       "      <td>Askari 5 - Sector F, Askari 5</td>\n",
       "      <td>45000000.0000</td>\n",
       "      <td>3.0000</td>\n",
       "      <td>3.0000</td>\n",
       "      <td>2403.0000</td>\n",
       "      <td>Brand New 2400 Square Feet 3 Bedroom Park Facing Apartment with Attached Bath, Kitchen, Store, Lounge, Drawing Room &amp; Servant Quarter is available for Sale in Askari-V, Malir Cantt Karachi. Located right next to Check Post 5 (Walking Distance) with all amenities nearby.</td>\n",
       "    </tr>\n",
       "    <tr>\n",
       "      <th>1</th>\n",
       "      <td>Askari 5 - Sector J, Askari 5</td>\n",
       "      <td>45000000.0000</td>\n",
       "      <td>3.0000</td>\n",
       "      <td>4.0000</td>\n",
       "      <td>2502.0000</td>\n",
       "      <td>Brand New 3 Bedroom Apartment with Attached Bath, Kitchen, Store, Lounge, Drawing Room, Servant Quarter &amp; Covered Parking For Sale In Sector-J, Askari-V, Malir Cantt Karachi</td>\n",
       "    </tr>\n",
       "    <tr>\n",
       "      <th>2</th>\n",
       "      <td>Falcon Complex New Malir, Malir</td>\n",
       "      <td>98000000.0000</td>\n",
       "      <td>5.0000</td>\n",
       "      <td>5.0000</td>\n",
       "      <td>4500.0000</td>\n",
       "      <td>You can book your House today at an ideal price of PKR Rs. 98,000,000. New house for sale have just popped up, so book an appointment today to find your dream home. Make the most of the opportunity right now of buying a 500 Square Yards property that is readily. This property at Rs. 98,000,000 comes with modern features and latest fittings. With property in Falcon Complex New Malir, you'll live the life of your dreams. Karachi finest property options that fit right into your budget. Read below to find out what this property offers. A private dining room is also included in the property to allow you to have your meals in peace and harmony. You don't have to worry about space anymore with the expansive sitting room that is part of this property. This drawing room lets your family have their privacy while you have formal guests over. The House is smartly designed to include a study room with all the ergonomics in place. Your kids can play to their heart's content in the play area adjoining the property. An effective waste disposal system is in place to keep the surroundings neat and tidy. For complete information about the property, contact us today and our representative will guide you.</td>\n",
       "    </tr>\n",
       "    <tr>\n",
       "      <th>3</th>\n",
       "      <td>Falcon Complex New Malir, Malir</td>\n",
       "      <td>130000000.0000</td>\n",
       "      <td>5.0000</td>\n",
       "      <td>5.0000</td>\n",
       "      <td>4500.0000</td>\n",
       "      <td>If you want to buy a property then don't miss out on this opportunity. Falcon Complex New Malir is trending in top searches for a home location, so make a move today to benefit. This 500 Square Yards House is the best real estate asset you can purchase at the moment. Finding a property is difficult but one at RsView Contact Detailis a great offer. If Karachi is your new investment destination, we have the right property for you. By considering the fact you're looking for a House, we would say, your search is now over. Features of property as follow. Feeling stressed? Simply step into the steam room that is part of the House for a few minutes. Plant your favorite fruits and vegetable in the garden, and enjoy them fresh at home. The property has a spacious drawing and dining room to allow you to entertain in style. The sitting room in this listing is perfect for informal gatherings. Large landscaped garden area in the House, where you can set up a coffee table or some sun loungers. Stay connected with your family and friends with the facility of broadband internet access. Kids can freely play at the community garden nearby. You can contact on our given details below to book your appointment.</td>\n",
       "    </tr>\n",
       "    <tr>\n",
       "      <th>4</th>\n",
       "      <td>Falcon Complex New Malir, Malir</td>\n",
       "      <td>81000000.0000</td>\n",
       "      <td>4.0000</td>\n",
       "      <td>5.0000</td>\n",
       "      <td>3150.0000</td>\n",
       "      <td>Brand New House Latest Design RCC Structured Bungalow On Sale In Falcon Complex New Malir. Ideally Located House With Imported Fixture And Fitting. All Basic Amenities Are Available In The Society. Security Is Under PAF Administration</td>\n",
       "    </tr>\n",
       "  </tbody>\n",
       "</table>\n",
       "</div>"
      ],
      "text/plain": [
       "                          Location   asking_price  Bedrooms  Baths  \\\n",
       "0    Askari 5 - Sector F, Askari 5  45000000.0000    3.0000 3.0000   \n",
       "1    Askari 5 - Sector J, Askari 5  45000000.0000    3.0000 4.0000   \n",
       "2  Falcon Complex New Malir, Malir  98000000.0000    5.0000 5.0000   \n",
       "3  Falcon Complex New Malir, Malir 130000000.0000    5.0000 5.0000   \n",
       "4  Falcon Complex New Malir, Malir  81000000.0000    4.0000 5.0000   \n",
       "\n",
       "   size(sqft)  \\\n",
       "0   2403.0000   \n",
       "1   2502.0000   \n",
       "2   4500.0000   \n",
       "3   4500.0000   \n",
       "4   3150.0000   \n",
       "\n",
       "                                                                                                                                                                                                                                                                                                                                                                                                                                                                                                                                                                                                                                                                                                                                                                                                                                                                                                                                                                                                                                                                                                                                                                                                                                                Description  \n",
       "0                                                                                                                                                                                                                                                                                                                                                                                                                                                                                                                                                                                                                                                                                                                                                                                                                                                                                                                                                                            Brand New 2400 Square Feet 3 Bedroom Park Facing Apartment with Attached Bath, Kitchen, Store, Lounge, Drawing Room & Servant Quarter is available for Sale in Askari-V, Malir Cantt Karachi. Located right next to Check Post 5 (Walking Distance) with all amenities nearby.  \n",
       "1                                                                                                                                                                                                                                                                                                                                                                                                                                                                                                                                                                                                                                                                                                                                                                                                                                                                                                                                                                                                                                                                             Brand New 3 Bedroom Apartment with Attached Bath, Kitchen, Store, Lounge, Drawing Room, Servant Quarter & Covered Parking For Sale In Sector-J, Askari-V, Malir Cantt Karachi  \n",
       "2       You can book your House today at an ideal price of PKR Rs. 98,000,000. New house for sale have just popped up, so book an appointment today to find your dream home. Make the most of the opportunity right now of buying a 500 Square Yards property that is readily. This property at Rs. 98,000,000 comes with modern features and latest fittings. With property in Falcon Complex New Malir, you'll live the life of your dreams. Karachi finest property options that fit right into your budget. Read below to find out what this property offers. A private dining room is also included in the property to allow you to have your meals in peace and harmony. You don't have to worry about space anymore with the expansive sitting room that is part of this property. This drawing room lets your family have their privacy while you have formal guests over. The House is smartly designed to include a study room with all the ergonomics in place. Your kids can play to their heart's content in the play area adjoining the property. An effective waste disposal system is in place to keep the surroundings neat and tidy. For complete information about the property, contact us today and our representative will guide you.  \n",
       "3  If you want to buy a property then don't miss out on this opportunity. Falcon Complex New Malir is trending in top searches for a home location, so make a move today to benefit. This 500 Square Yards House is the best real estate asset you can purchase at the moment. Finding a property is difficult but one at RsView Contact Detailis a great offer. If Karachi is your new investment destination, we have the right property for you. By considering the fact you're looking for a House, we would say, your search is now over. Features of property as follow. Feeling stressed? Simply step into the steam room that is part of the House for a few minutes. Plant your favorite fruits and vegetable in the garden, and enjoy them fresh at home. The property has a spacious drawing and dining room to allow you to entertain in style. The sitting room in this listing is perfect for informal gatherings. Large landscaped garden area in the House, where you can set up a coffee table or some sun loungers. Stay connected with your family and friends with the facility of broadband internet access. Kids can freely play at the community garden nearby. You can contact on our given details below to book your appointment.  \n",
       "4                                                                                                                                                                                                                                                                                                                                                                                                                                                                                                                                                                                                                                                                                                                                                                                                                                                                                                                                                                                                                Brand New House Latest Design RCC Structured Bungalow On Sale In Falcon Complex New Malir. Ideally Located House With Imported Fixture And Fitting. All Basic Amenities Are Available In The Society. Security Is Under PAF Administration  "
      ]
     },
     "execution_count": 143,
     "metadata": {},
     "output_type": "execute_result"
    }
   ],
   "source": [
    "df.head()"
   ]
  },
  {
   "cell_type": "code",
   "execution_count": null,
   "metadata": {},
   "outputs": [],
   "source": [
    "# df.loc[(df['Description'].str.contains('home', case=False))] = 'Row/house'\n"
   ]
  },
  {
   "cell_type": "code",
   "execution_count": null,
   "metadata": {},
   "outputs": [],
   "source": [
    "# df.loc[(df['Description'].str.contains('condo', case=False))] = 'Apartment'\n",
    "# df.loc[(df['Description'].str.contains('loft', case=False))] = 'Apartment'\n",
    "# df.loc[(df['Description'].str.contains(' flat ', case=False))] = 'Apartment'\n",
    "# df.loc[(df['Description'].str.contains('unit', case=False))] = 'Apartment'\n",
    "# df.loc[(df['Description'].str.contains('penthouse', case=False))] = 'Apartment'"
   ]
  },
  {
   "cell_type": "markdown",
   "metadata": {},
   "source": [
    "### Identify Commercial Residential Mix used building"
   ]
  },
  {
   "cell_type": "code",
   "execution_count": null,
   "metadata": {},
   "outputs": [],
   "source": [
    "# df.loc[(df['Description'].str.contains(' Mixed Use', case=False))] = 'Commercial'\n",
    "# df.loc[(df['Description'].str.contains('commercial', case=False))] = 'Commercial'"
   ]
  },
  {
   "cell_type": "code",
   "execution_count": null,
   "metadata": {},
   "outputs": [],
   "source": [
    "# split each of the strings into a list\n",
    "# df=df.copy()\n",
    "# df['Description'] = df['Description'].str.replace(\" \",\"\")\n",
    "\n",
    "\n",
    "# df['Description'] = df['Description'].str.split(pat=',')\n",
    "\n",
    "# # collect all unique tags from those lists\n",
    "# tags = set(df['Description'].explode().values)\n",
    "# print(tags)"
   ]
  },
  {
   "cell_type": "code",
   "execution_count": null,
   "metadata": {},
   "outputs": [],
   "source": [
    "# create a new Boolean column for each tag\n",
    "# for tag in tags:\n",
    "#     df[tag] = [tag in df['Description'].loc[i] for i in df.index]\n",
    "\n",
    "#display(df_3)"
   ]
  },
  {
   "cell_type": "code",
   "execution_count": null,
   "metadata": {},
   "outputs": [],
   "source": [
    "# parkingCol=['Shared', 'DetachedGarage', 'AttachedGarage', 'Garage', 'Covered', 'StreetPermit', 'Other', 'NoGarage', 'NotListed', 'Open', 'Oversize', 'Gravel', 'VisitorParking', 'Tandem', 'Interlocked', 'Surfaced', 'RV', 'None', 'Underground', 'InsideEntry', 'Carport', 'carparking']"
   ]
  },
  {
   "cell_type": "code",
   "execution_count": null,
   "metadata": {},
   "outputs": [],
   "source": [
    "# newdict={}\n",
    "# for col in parkingCol:\n",
    "#     newdict[col]=df[col][df[col]==True].count()\n",
    "#     #print(col+\" \"+str(df_3[col][df_3[col]==True].count()))\n",
    "# sorted_keys = sorted(newdict, key=newdict.get, reverse=True)  # [1, 3, 2]\n",
    "# sorted_dict = {}\n",
    "# for w in sorted_keys:\n",
    "#     sorted_dict[w] = newdict[w]\n",
    "\n",
    "# print(sorted_dict) # {1: 1, 3: 4, 2: 9}"
   ]
  },
  {
   "cell_type": "markdown",
   "metadata": {},
   "source": [
    "### Double check if there are still missing values \"Nan or null\""
   ]
  },
  {
   "cell_type": "code",
   "execution_count": 144,
   "metadata": {},
   "outputs": [
    {
     "name": "stdout",
     "output_type": "stream",
     "text": [
      " \n",
      "Count total NaN at each column in a DataFrame : \n",
      "\n",
      " Location         0\n",
      "asking_price     0\n",
      "Bedrooms         0\n",
      "Baths            0\n",
      "size(sqft)       0\n",
      "Description     43\n",
      "dtype: int64\n"
     ]
    }
   ],
   "source": [
    "pd.set_option(\"display.max_rows\", None)\n",
    "# Count total NaN at each column in a DataFrame\n",
    "print(\" \\nCount total NaN at each column in a DataFrame : \\n\\n\",\n",
    "      df.isnull().sum())\n",
    "pd.set_option(\"display.max_rows\", 5)\n"
   ]
  },
  {
   "cell_type": "code",
   "execution_count": 149,
   "metadata": {},
   "outputs": [
    {
     "name": "stderr",
     "output_type": "stream",
     "text": [
      "/var/folders/y8/x9285djn4dq833k8_7gw_7_00000gn/T/ipykernel_12166/594759394.py:1: FutureWarning: A value is trying to be set on a copy of a DataFrame or Series through chained assignment using an inplace method.\n",
      "The behavior will change in pandas 3.0. This inplace method will never work because the intermediate object on which we are setting values always behaves as a copy.\n",
      "\n",
      "For example, when doing 'df[col].method(value, inplace=True)', try using 'df.method({col: value}, inplace=True)' or df[col] = df[col].method(value) instead, to perform the operation inplace on the original object.\n",
      "\n",
      "\n",
      "  df['Description'].fillna(df['Description'].mode()[0], inplace=True)\n"
     ]
    }
   ],
   "source": [
    "df['Description'].fillna(df['Description'].mode()[0], inplace=True)\n"
   ]
  },
  {
   "cell_type": "code",
   "execution_count": 146,
   "metadata": {},
   "outputs": [
    {
     "data": {
      "text/html": [
       "<div>\n",
       "<style scoped>\n",
       "    .dataframe tbody tr th:only-of-type {\n",
       "        vertical-align: middle;\n",
       "    }\n",
       "\n",
       "    .dataframe tbody tr th {\n",
       "        vertical-align: top;\n",
       "    }\n",
       "\n",
       "    .dataframe thead th {\n",
       "        text-align: right;\n",
       "    }\n",
       "</style>\n",
       "<table border=\"1\" class=\"dataframe\">\n",
       "  <thead>\n",
       "    <tr style=\"text-align: right;\">\n",
       "      <th></th>\n",
       "      <th>Location</th>\n",
       "      <th>asking_price</th>\n",
       "      <th>Bedrooms</th>\n",
       "      <th>Baths</th>\n",
       "      <th>size(sqft)</th>\n",
       "      <th>Description</th>\n",
       "    </tr>\n",
       "  </thead>\n",
       "  <tbody>\n",
       "    <tr>\n",
       "      <th>0</th>\n",
       "      <td>Askari 5 - Sector F, Askari 5</td>\n",
       "      <td>45000000.0000</td>\n",
       "      <td>3.0000</td>\n",
       "      <td>3.0000</td>\n",
       "      <td>2403.0000</td>\n",
       "      <td>Brand New 2400 Square Feet 3 Bedroom Park Facing Apartment with Attached Bath, Kitchen, Store, Lounge, Drawing Room &amp; Servant Quarter is available for Sale in Askari-V, Malir Cantt Karachi. Located right next to Check Post 5 (Walking Distance) with all amenities nearby.</td>\n",
       "    </tr>\n",
       "    <tr>\n",
       "      <th>1</th>\n",
       "      <td>Askari 5 - Sector J, Askari 5</td>\n",
       "      <td>45000000.0000</td>\n",
       "      <td>3.0000</td>\n",
       "      <td>4.0000</td>\n",
       "      <td>2502.0000</td>\n",
       "      <td>Brand New 3 Bedroom Apartment with Attached Bath, Kitchen, Store, Lounge, Drawing Room, Servant Quarter &amp; Covered Parking For Sale In Sector-J, Askari-V, Malir Cantt Karachi</td>\n",
       "    </tr>\n",
       "    <tr>\n",
       "      <th>2</th>\n",
       "      <td>Falcon Complex New Malir, Malir</td>\n",
       "      <td>98000000.0000</td>\n",
       "      <td>5.0000</td>\n",
       "      <td>5.0000</td>\n",
       "      <td>4500.0000</td>\n",
       "      <td>You can book your House today at an ideal price of PKR Rs. 98,000,000. New house for sale have just popped up, so book an appointment today to find your dream home. Make the most of the opportunity right now of buying a 500 Square Yards property that is readily. This property at Rs. 98,000,000 comes with modern features and latest fittings. With property in Falcon Complex New Malir, you'll live the life of your dreams. Karachi finest property options that fit right into your budget. Read below to find out what this property offers. A private dining room is also included in the property to allow you to have your meals in peace and harmony. You don't have to worry about space anymore with the expansive sitting room that is part of this property. This drawing room lets your family have their privacy while you have formal guests over. The House is smartly designed to include a study room with all the ergonomics in place. Your kids can play to their heart's content in the play area adjoining the property. An effective waste disposal system is in place to keep the surroundings neat and tidy. For complete information about the property, contact us today and our representative will guide you.</td>\n",
       "    </tr>\n",
       "    <tr>\n",
       "      <th>3</th>\n",
       "      <td>Falcon Complex New Malir, Malir</td>\n",
       "      <td>130000000.0000</td>\n",
       "      <td>5.0000</td>\n",
       "      <td>5.0000</td>\n",
       "      <td>4500.0000</td>\n",
       "      <td>If you want to buy a property then don't miss out on this opportunity. Falcon Complex New Malir is trending in top searches for a home location, so make a move today to benefit. This 500 Square Yards House is the best real estate asset you can purchase at the moment. Finding a property is difficult but one at RsView Contact Detailis a great offer. If Karachi is your new investment destination, we have the right property for you. By considering the fact you're looking for a House, we would say, your search is now over. Features of property as follow. Feeling stressed? Simply step into the steam room that is part of the House for a few minutes. Plant your favorite fruits and vegetable in the garden, and enjoy them fresh at home. The property has a spacious drawing and dining room to allow you to entertain in style. The sitting room in this listing is perfect for informal gatherings. Large landscaped garden area in the House, where you can set up a coffee table or some sun loungers. Stay connected with your family and friends with the facility of broadband internet access. Kids can freely play at the community garden nearby. You can contact on our given details below to book your appointment.</td>\n",
       "    </tr>\n",
       "    <tr>\n",
       "      <th>4</th>\n",
       "      <td>Falcon Complex New Malir, Malir</td>\n",
       "      <td>81000000.0000</td>\n",
       "      <td>4.0000</td>\n",
       "      <td>5.0000</td>\n",
       "      <td>3150.0000</td>\n",
       "      <td>Brand New House Latest Design RCC Structured Bungalow On Sale In Falcon Complex New Malir. Ideally Located House With Imported Fixture And Fitting. All Basic Amenities Are Available In The Society. Security Is Under PAF Administration</td>\n",
       "    </tr>\n",
       "  </tbody>\n",
       "</table>\n",
       "</div>"
      ],
      "text/plain": [
       "                          Location   asking_price  Bedrooms  Baths  \\\n",
       "0    Askari 5 - Sector F, Askari 5  45000000.0000    3.0000 3.0000   \n",
       "1    Askari 5 - Sector J, Askari 5  45000000.0000    3.0000 4.0000   \n",
       "2  Falcon Complex New Malir, Malir  98000000.0000    5.0000 5.0000   \n",
       "3  Falcon Complex New Malir, Malir 130000000.0000    5.0000 5.0000   \n",
       "4  Falcon Complex New Malir, Malir  81000000.0000    4.0000 5.0000   \n",
       "\n",
       "   size(sqft)  \\\n",
       "0   2403.0000   \n",
       "1   2502.0000   \n",
       "2   4500.0000   \n",
       "3   4500.0000   \n",
       "4   3150.0000   \n",
       "\n",
       "                                                                                                                                                                                                                                                                                                                                                                                                                                                                                                                                                                                                                                                                                                                                                                                                                                                                                                                                                                                                                                                                                                                                                                                                                                                Description  \n",
       "0                                                                                                                                                                                                                                                                                                                                                                                                                                                                                                                                                                                                                                                                                                                                                                                                                                                                                                                                                                            Brand New 2400 Square Feet 3 Bedroom Park Facing Apartment with Attached Bath, Kitchen, Store, Lounge, Drawing Room & Servant Quarter is available for Sale in Askari-V, Malir Cantt Karachi. Located right next to Check Post 5 (Walking Distance) with all amenities nearby.  \n",
       "1                                                                                                                                                                                                                                                                                                                                                                                                                                                                                                                                                                                                                                                                                                                                                                                                                                                                                                                                                                                                                                                                             Brand New 3 Bedroom Apartment with Attached Bath, Kitchen, Store, Lounge, Drawing Room, Servant Quarter & Covered Parking For Sale In Sector-J, Askari-V, Malir Cantt Karachi  \n",
       "2       You can book your House today at an ideal price of PKR Rs. 98,000,000. New house for sale have just popped up, so book an appointment today to find your dream home. Make the most of the opportunity right now of buying a 500 Square Yards property that is readily. This property at Rs. 98,000,000 comes with modern features and latest fittings. With property in Falcon Complex New Malir, you'll live the life of your dreams. Karachi finest property options that fit right into your budget. Read below to find out what this property offers. A private dining room is also included in the property to allow you to have your meals in peace and harmony. You don't have to worry about space anymore with the expansive sitting room that is part of this property. This drawing room lets your family have their privacy while you have formal guests over. The House is smartly designed to include a study room with all the ergonomics in place. Your kids can play to their heart's content in the play area adjoining the property. An effective waste disposal system is in place to keep the surroundings neat and tidy. For complete information about the property, contact us today and our representative will guide you.  \n",
       "3  If you want to buy a property then don't miss out on this opportunity. Falcon Complex New Malir is trending in top searches for a home location, so make a move today to benefit. This 500 Square Yards House is the best real estate asset you can purchase at the moment. Finding a property is difficult but one at RsView Contact Detailis a great offer. If Karachi is your new investment destination, we have the right property for you. By considering the fact you're looking for a House, we would say, your search is now over. Features of property as follow. Feeling stressed? Simply step into the steam room that is part of the House for a few minutes. Plant your favorite fruits and vegetable in the garden, and enjoy them fresh at home. The property has a spacious drawing and dining room to allow you to entertain in style. The sitting room in this listing is perfect for informal gatherings. Large landscaped garden area in the House, where you can set up a coffee table or some sun loungers. Stay connected with your family and friends with the facility of broadband internet access. Kids can freely play at the community garden nearby. You can contact on our given details below to book your appointment.  \n",
       "4                                                                                                                                                                                                                                                                                                                                                                                                                                                                                                                                                                                                                                                                                                                                                                                                                                                                                                                                                                                                                Brand New House Latest Design RCC Structured Bungalow On Sale In Falcon Complex New Malir. Ideally Located House With Imported Fixture And Fitting. All Basic Amenities Are Available In The Society. Security Is Under PAF Administration  "
      ]
     },
     "execution_count": 146,
     "metadata": {},
     "output_type": "execute_result"
    }
   ],
   "source": [
    "df.head()"
   ]
  },
  {
   "cell_type": "code",
   "execution_count": 150,
   "metadata": {},
   "outputs": [
    {
     "data": {
      "text/plain": [
       "Location        0\n",
       "asking_price    0\n",
       "               ..\n",
       "size(sqft)      0\n",
       "Description     0\n",
       "Length: 6, dtype: int64"
      ]
     },
     "execution_count": 150,
     "metadata": {},
     "output_type": "execute_result"
    }
   ],
   "source": [
    "df.isnull().sum()"
   ]
  },
  {
   "cell_type": "markdown",
   "metadata": {},
   "source": [
    "### Statistics for Column \"Price\" \n",
    "### For all listings  "
   ]
  },
  {
   "cell_type": "markdown",
   "metadata": {},
   "source": [
    "Set the display option for describe()\n"
   ]
  },
  {
   "cell_type": "code",
   "execution_count": null,
   "metadata": {},
   "outputs": [],
   "source": [
    "pd.set_option('float_format', '{:.2f}'.format)"
   ]
  },
  {
   "cell_type": "code",
   "execution_count": null,
   "metadata": {},
   "outputs": [],
   "source": [
    "df[\"asking_price\"].describe()"
   ]
  },
  {
   "cell_type": "code",
   "execution_count": null,
   "metadata": {},
   "outputs": [],
   "source": [
    "df[\"asking_price\"]=df[\"asking_price\"].astype(int)"
   ]
  },
  {
   "cell_type": "code",
   "execution_count": null,
   "metadata": {},
   "outputs": [],
   "source": [
    "#skewness and kurtosis\n",
    "print(\"Skewness: %f\" % df['asking_price'].skew())\n",
    "print(\"Kurtosis: %f\" % df['asking_price'].kurt())\n"
   ]
  },
  {
   "cell_type": "markdown",
   "metadata": {},
   "source": [
    "### Check the distribution for Bedroom"
   ]
  },
  {
   "cell_type": "code",
   "execution_count": null,
   "metadata": {},
   "outputs": [],
   "source": [
    "sns.displot(df[df[\"asking_price\"]<=50000000], x=\"asking_price\", hue=\"Bedrooms\", multiple=\"stack\",bins=20,\n",
    "            height=10, aspect=2, palette='colorblind')"
   ]
  },
  {
   "cell_type": "markdown",
   "metadata": {},
   "source": [
    "### check the distribution of bathrooms"
   ]
  },
  {
   "cell_type": "code",
   "execution_count": null,
   "metadata": {},
   "outputs": [],
   "source": [
    "sns.displot(df[df[\"asking_price\"]<=50000000], x=\"asking_price\", hue=\"Baths\", multiple=\"stack\",bins=20,\n",
    "            height=10, aspect=2, palette='colorblind')"
   ]
  },
  {
   "cell_type": "markdown",
   "metadata": {},
   "source": [
    "## Relationship with numerical variables\n",
    "## Scatter Plot"
   ]
  },
  {
   "cell_type": "markdown",
   "metadata": {},
   "source": [
    "Price Vs. Bedroom"
   ]
  },
  {
   "cell_type": "code",
   "execution_count": null,
   "metadata": {},
   "outputs": [],
   "source": [
    "data = pd.concat([df['asking_price'], df['Bedrooms']], axis=1)\n",
    "data.plot.scatter(x='Bedrooms', y='asking_price', ylim=(0,20000000));"
   ]
  },
  {
   "cell_type": "markdown",
   "metadata": {},
   "source": [
    "Price Vs. Bathroom"
   ]
  },
  {
   "cell_type": "code",
   "execution_count": null,
   "metadata": {},
   "outputs": [],
   "source": [
    "data = pd.concat([df['asking_price'], df['Baths']], axis=1)\n",
    "data.plot.scatter(x='Baths', y='asking_price', ylim=(0,20000000));"
   ]
  },
  {
   "cell_type": "markdown",
   "metadata": {},
   "source": [
    "Price Vs. Area"
   ]
  },
  {
   "cell_type": "code",
   "execution_count": null,
   "metadata": {},
   "outputs": [],
   "source": [
    "#scatter plot area/saleprice\n",
    "data = pd.concat([df['asking_price'], df['size(sqft)']], axis=1)\n",
    "data.plot.scatter(x='size(sqft)', y='asking_price', xlim=(100,20000), ylim=(0,50000000));"
   ]
  },
  {
   "cell_type": "markdown",
   "metadata": {},
   "source": [
    "### Normalization for Price"
   ]
  },
  {
   "cell_type": "code",
   "execution_count": null,
   "metadata": {},
   "outputs": [],
   "source": [
    "!pip install sklearn.preprocessing"
   ]
  },
  {
   "cell_type": "code",
   "execution_count": null,
   "metadata": {},
   "outputs": [],
   "source": [
    "from sklearn.preprocessing import MinMaxScaler\n",
    "scaler = MinMaxScaler()\n",
    "df[\"asking_price\"] = pd.DataFrame(scaler.fit_transform(pd.DataFrame(df[\"asking_price\"])))"
   ]
  },
  {
   "cell_type": "code",
   "execution_count": null,
   "metadata": {},
   "outputs": [],
   "source": [
    "numerical_features=[\"Bedrooms\",\"Baths\",\"size(sqft)\"]"
   ]
  },
  {
   "cell_type": "code",
   "execution_count": null,
   "metadata": {},
   "outputs": [],
   "source": [
    "import pandas as pd\n",
    "import numpy as np\n",
    "from sklearn.feature_selection import SelectKBest\n",
    "from sklearn.feature_selection import chi2\n",
    "X=df[numerical_features]\n",
    "X.head()"
   ]
  },
  {
   "cell_type": "code",
   "execution_count": null,
   "metadata": {},
   "outputs": [],
   "source": [
    "pd.options.display.float_format = '{:.8f}'.format\n",
    "\n",
    "y = df.iloc[:,1]    #target column, price\n",
    "y.head()"
   ]
  },
  {
   "cell_type": "markdown",
   "metadata": {},
   "source": [
    "### Normalization for numerical data (including longitude and latitude) using MinMaxScaler"
   ]
  },
  {
   "cell_type": "code",
   "execution_count": null,
   "metadata": {},
   "outputs": [],
   "source": [
    "from sklearn.preprocessing import MinMaxScaler\n",
    "# recaling the variables (both)\n",
    "X_columns = X.columns\n",
    "scaler = MinMaxScaler()\n",
    "X = scaler.fit_transform(X)\n",
    "\n",
    "# rename columns (since now its an np array)\n",
    "X = pd.DataFrame(X)\n",
    "X.columns = X_columns"
   ]
  },
  {
   "cell_type": "code",
   "execution_count": null,
   "metadata": {},
   "outputs": [],
   "source": [
    "X.head()"
   ]
  },
  {
   "cell_type": "code",
   "execution_count": null,
   "metadata": {},
   "outputs": [],
   "source": [
    "pd.options.display.float_format = '{:.4f}'.format\n",
    "pd.set_option(\"display.max_rows\", 5)\n"
   ]
  },
  {
   "cell_type": "code",
   "execution_count": null,
   "metadata": {},
   "outputs": [],
   "source": [
    "from sklearn.feature_selection import f_regression\n",
    "\n",
    "#apply SelectKBest class to extract top 10 best features\n",
    "bestfeatures = SelectKBest(score_func=f_regression, k=3) #chi2\n",
    "fit = bestfeatures.fit(X,y)\n",
    "dfscores = pd.DataFrame(fit.scores_)\n",
    "dfcolumns = pd.DataFrame(X.columns)\n",
    "#concat two dataframes for better visualization \n",
    "featureScores = pd.concat([dfcolumns,dfscores],axis=1)\n",
    "featureScores.columns = ['Specs','Score']  #naming the dataframe columns\n",
    "print(featureScores.nlargest(12,'Score'))  #print 10 best features"
   ]
  },
  {
   "cell_type": "code",
   "execution_count": null,
   "metadata": {},
   "outputs": [],
   "source": [
    "from sklearn.feature_selection import f_regression\n",
    "\n",
    "#apply SelectKBest class to extract top 10 best features\n",
    "bestfeatures = SelectKBest(score_func=f_regression, k=3) #chi2\n",
    "fit = bestfeatures.fit(X,y)\n",
    "dfscores = pd.DataFrame(fit.scores_)\n",
    "dfcolumns = pd.DataFrame(X.columns)\n",
    "#concat two dataframes for better visualization \n",
    "featureScores = pd.concat([dfcolumns,dfscores],axis=1)\n",
    "featureScores.columns = ['Specs','Score']  #naming the dataframe columns\n",
    "print(featureScores.nlargest(12,'Score'))  #print 10 best features"
   ]
  },
  {
   "cell_type": "markdown",
   "metadata": {},
   "source": [
    "### Regression with Gradient Boosting using numerical features"
   ]
  },
  {
   "cell_type": "code",
   "execution_count": null,
   "metadata": {},
   "outputs": [],
   "source": [
    "from sklearn import datasets, ensemble\n",
    "from sklearn.metrics import mean_squared_error\n",
    "from sklearn.model_selection import train_test_split\n",
    "import math \n",
    "\n",
    "#divide dataset\n",
    "X_train, X_test, y_train, y_test = train_test_split(\n",
    "    X, y, test_size=0.1, random_state=13)\n",
    "\n",
    "params = {'n_estimators': 1000,\n",
    "          'max_depth': 4,\n",
    "          'min_samples_split': 5,\n",
    "          'learning_rate': 0.01,\n",
    "          'loss': 'squared_error'}\n",
    "\n",
    "reg = ensemble.GradientBoostingRegressor(**params)\n",
    "reg.fit(X_train, y_train)\n",
    "\n",
    "mse = mean_squared_error(y_test, reg.predict(X_test), squared=False)\n",
    "#rmse=math.sqrt(mse)\n",
    "\n",
    "print(\"The root mean squared error (RMSE) on test set: {:.4f}\".format(mse))"
   ]
  },
  {
   "cell_type": "markdown",
   "metadata": {},
   "source": [
    "### Try XGBoost on numerical features"
   ]
  },
  {
   "cell_type": "markdown",
   "metadata": {},
   "source": [
    "### Convert categorical data with string values into numerical values"
   ]
  },
  {
   "cell_type": "code",
   "execution_count": null,
   "metadata": {},
   "outputs": [],
   "source": [
    "X_category=df[['Location']]"
   ]
  },
  {
   "cell_type": "code",
   "execution_count": null,
   "metadata": {},
   "outputs": [],
   "source": [
    "cat_features=['Location']\n",
    "for col in cat_features:\n",
    "    X_category[col] = X_category[col].astype('category')\n",
    "    X_category[col] = X_category[col].cat.codes"
   ]
  },
  {
   "cell_type": "code",
   "execution_count": null,
   "metadata": {},
   "outputs": [],
   "source": [
    "X_category.head()"
   ]
  },
  {
   "cell_type": "markdown",
   "metadata": {},
   "source": [
    "### Normalize the categorical data "
   ]
  },
  {
   "cell_type": "code",
   "execution_count": null,
   "metadata": {},
   "outputs": [],
   "source": [
    "from sklearn.preprocessing import MinMaxScaler\n",
    "\n",
    "# recaling the variables (both)\n",
    "X_category_columns = X_category.columns\n",
    "scaler = MinMaxScaler()\n",
    "X_category = scaler.fit_transform(X_category)\n",
    "\n",
    "# rename columns (since now its an np array)\n",
    "X_category = pd.DataFrame(X_category)\n",
    "X_category.columns = X_category_columns\n",
    "\n",
    "X_category.head()"
   ]
  },
  {
   "cell_type": "markdown",
   "metadata": {},
   "source": [
    "### Use only categorical data to predict;"
   ]
  },
  {
   "cell_type": "code",
   "execution_count": null,
   "metadata": {},
   "outputs": [],
   "source": [
    "from sklearn import datasets, ensemble\n",
    "from sklearn.metrics import mean_squared_error\n",
    "from sklearn.model_selection import train_test_split\n",
    "import math \n",
    "\n",
    "#divide dataset\n",
    "X_train, X_test, y_train, y_test = train_test_split(\n",
    "    X_category, y, test_size=0.1, random_state=13)\n",
    "\n",
    "params = {'n_estimators': 1000,\n",
    "          'max_depth': 4,\n",
    "          'min_samples_split': 5,\n",
    "          'learning_rate': 0.01,\n",
    "          'loss': 'squared_error'}\n",
    "\n",
    "reg = ensemble.GradientBoostingRegressor(**params)\n",
    "reg.fit(X_train, y_train)\n",
    "\n",
    "mse = mean_squared_error(y_test, reg.predict(X_test), squared=False)\n",
    "#rmse=math.sqrt(mse)\n",
    "\n",
    "print(\"The root mean squared error (RMSE) on test set: {:.4f}\".format(mse))"
   ]
  },
  {
   "cell_type": "markdown",
   "metadata": {},
   "source": [
    "### Normalization of price"
   ]
  },
  {
   "cell_type": "code",
   "execution_count": null,
   "metadata": {},
   "outputs": [],
   "source": [
    "from sklearn.preprocessing import MinMaxScaler\n",
    "\n",
    "scaler = MinMaxScaler()\n",
    "labels_price = pd.DataFrame(scaler.fit_transform(pd.DataFrame(df[\"asking_price\"])))"
   ]
  },
  {
   "cell_type": "markdown",
   "metadata": {},
   "source": [
    "### numerical features"
   ]
  },
  {
   "cell_type": "code",
   "execution_count": null,
   "metadata": {},
   "outputs": [],
   "source": [
    "numerical_features=[\"Bedrooms\",\"Baths\", \"size(sqft)\"]"
   ]
  },
  {
   "cell_type": "code",
   "execution_count": null,
   "metadata": {},
   "outputs": [],
   "source": [
    "import pandas as pd\n",
    "import numpy as np\n",
    "from sklearn.feature_selection import SelectKBest\n",
    "from sklearn.feature_selection import chi2\n",
    "X_num=df[numerical_features]\n",
    "X_num.head()"
   ]
  },
  {
   "cell_type": "markdown",
   "metadata": {},
   "source": [
    "## Normalization for numerical data using MinMaxScaler\n"
   ]
  },
  {
   "cell_type": "code",
   "execution_count": null,
   "metadata": {},
   "outputs": [],
   "source": [
    "from sklearn.preprocessing import MinMaxScaler\n",
    "# recaling the variables (both)\n",
    "X_num_columns = X_num.columns\n",
    "scaler = MinMaxScaler()\n",
    "X_num = scaler.fit_transform(X_num)\n",
    "\n",
    "# rename columns (since now its an np array)\n",
    "X_num = pd.DataFrame(X_num)\n",
    "X_num.columns = X_num_columns\n",
    "\n"
   ]
  },
  {
   "cell_type": "markdown",
   "metadata": {},
   "source": [
    "### Convert categorical data into numerical values\n"
   ]
  },
  {
   "cell_type": "code",
   "execution_count": null,
   "metadata": {},
   "outputs": [],
   "source": [
    "X_category=df[['Location']]"
   ]
  },
  {
   "cell_type": "code",
   "execution_count": null,
   "metadata": {},
   "outputs": [],
   "source": [
    "## convert categorical data to numerical values\n",
    "cate_features=['Location']\n",
    "for col in cate_features:\n",
    "    X_category[col] = X_category[col].astype('category')\n",
    "    X_category[col] = X_category[col].cat.codes"
   ]
  },
  {
   "cell_type": "code",
   "execution_count": null,
   "metadata": {},
   "outputs": [],
   "source": [
    "X_category.head()"
   ]
  },
  {
   "cell_type": "markdown",
   "metadata": {},
   "source": [
    "### Normalize the categorical data "
   ]
  },
  {
   "cell_type": "code",
   "execution_count": null,
   "metadata": {},
   "outputs": [],
   "source": [
    "from sklearn.model_selection import train_test_split\n",
    "from sklearn.preprocessing import MinMaxScaler\n",
    "\n",
    "## Use numerical, boolean, categorical (excluding description) data to predict\n",
    "\n",
    "X_all_exdesc = pd.concat([X_num, X_category], axis=1)\n",
    "X_all_exdesc.head()\n",
    "\n",
    "## divide dataset\n",
    "\n",
    "X_train, X_test, y_train, y_test = train_test_split(\n",
    "    X_all_exdesc, labels_price, test_size=0.1, random_state=13) \n",
    "\n",
    "X_train = np.asarray(X_train).astype(np.float32)\n",
    "X_test = np.asarray(X_test).astype(np.float32)\n",
    "\n",
    "# recaling the variables (both)\n",
    "X_category_columns = X_category.columns\n",
    "scaler = MinMaxScaler()\n",
    "X_category = scaler.fit_transform(X_category)\n",
    "\n",
    "# rename columns (since now its an np array)\n",
    "X_category = pd.DataFrame(X_category)\n",
    "X_category.columns = X_category_columns\n",
    "\n",
    "X_category.head()"
   ]
  },
  {
   "cell_type": "markdown",
   "metadata": {},
   "source": [
    "### Build model for non-description data"
   ]
  },
  {
   "cell_type": "markdown",
   "metadata": {},
   "source": [
    "### Use numerical and categorical (excluding description) data to predict"
   ]
  },
  {
   "cell_type": "code",
   "execution_count": null,
   "metadata": {},
   "outputs": [],
   "source": [
    "X_all_exdesc = pd.concat([X_num, X_category], axis=1)\n",
    "X_all_exdesc.head()"
   ]
  },
  {
   "cell_type": "markdown",
   "metadata": {},
   "source": [
    "### divide dataset for non-description data"
   ]
  },
  {
   "cell_type": "code",
   "execution_count": null,
   "metadata": {},
   "outputs": [],
   "source": [
    "from sklearn.model_selection import train_test_split\n",
    "X_train, X_test, y_train, y_test = train_test_split(X_all_exdesc, labels_price, test_size=0.1, random_state=13) "
   ]
  },
  {
   "cell_type": "code",
   "execution_count": null,
   "metadata": {},
   "outputs": [],
   "source": [
    "X_train = np.asarray(X_train).astype(np.float32)\n",
    "X_test = np.asarray(X_test).astype(np.float32)"
   ]
  },
  {
   "cell_type": "markdown",
   "metadata": {},
   "source": [
    "### Build gradient boosting model"
   ]
  },
  {
   "cell_type": "code",
   "execution_count": null,
   "metadata": {},
   "outputs": [],
   "source": [
    "import numpy as np \n",
    "from sklearn import ensemble\n",
    "params = {'n_estimators': 500,\n",
    "          'max_depth': 6,\n",
    "          'learning_rate': 0.02,\n",
    "          'subsample': 0.8\n",
    "         }\n",
    "\n",
    "reg = ensemble.GradientBoostingRegressor(**params)\n",
    "\n",
    "y_train_flat=np.ravel(y_train)\n",
    "reg.fit(X_train, y_train_flat)"
   ]
  },
  {
   "cell_type": "markdown",
   "metadata": {},
   "source": [
    "### Training R2 and RMSE"
   ]
  },
  {
   "cell_type": "code",
   "execution_count": null,
   "metadata": {},
   "outputs": [],
   "source": [
    "y_train_pred=reg.predict(X_train)"
   ]
  },
  {
   "cell_type": "code",
   "execution_count": null,
   "metadata": {},
   "outputs": [],
   "source": [
    "from sklearn.metrics import r2_score\n",
    "r2_train=r2_score(y_train, y_train_pred)\n",
    "print(r2_train)"
   ]
  },
  {
   "cell_type": "code",
   "execution_count": null,
   "metadata": {},
   "outputs": [],
   "source": [
    "from sklearn.metrics import mean_squared_error\n",
    "rmse_train=mean_squared_error(y_train, y_train_pred, squared=False)\n",
    "print(rmse_train)"
   ]
  },
  {
   "cell_type": "markdown",
   "metadata": {},
   "source": [
    "### Testing R2 and RMSE"
   ]
  },
  {
   "cell_type": "code",
   "execution_count": null,
   "metadata": {},
   "outputs": [],
   "source": [
    "y_test_pred=reg.predict(X_test)"
   ]
  },
  {
   "cell_type": "code",
   "execution_count": null,
   "metadata": {},
   "outputs": [],
   "source": [
    "r2_test=r2_score(y_test, y_test_pred)\n",
    "print(r2_test)"
   ]
  },
  {
   "cell_type": "code",
   "execution_count": null,
   "metadata": {},
   "outputs": [],
   "source": [
    "rmse_test=mean_squared_error(y_test, y_test_pred, squared=False)\n",
    "print(rmse_test)"
   ]
  },
  {
   "cell_type": "markdown",
   "metadata": {},
   "source": [
    "### save the model to disk"
   ]
  },
  {
   "cell_type": "code",
   "execution_count": null,
   "metadata": {},
   "outputs": [],
   "source": [
    "import pickle\n",
    "import os\n",
    "\n",
    "# Define the output folder path (use the full path to your Desktop)\n",
    "output_folder = os.path.expanduser('/Users/muhammadkashifkhan/Documents/ASDS_2nd/Thesis/output_kashif/finalized_model_non_description.sav')  # This expands to '/Users/yourusername/Desktop' on macOS/Linux\n",
    "\n",
    "# Ensure the directory exists or create it if necessary\n",
    "if not os.path.exists(output_folder):\n",
    "    os.makedirs(output_folder)\n",
    "\n",
    "# Define your model (reg) before this step\n",
    "filename = 'finalized_model_non_description.sav'\n",
    "pickle.dump(reg, open(os.path.join(output_folder, filename), 'wb'))\n",
    "\n",
    "print(f\"Model saved to {os.path.join(output_folder, filename)}\")\n"
   ]
  },
  {
   "cell_type": "code",
   "execution_count": null,
   "metadata": {},
   "outputs": [],
   "source": [
    "loaded_model = pickle.load(open(output_folder+\"/\"+filename, 'rb'))\n",
    "y_test_pred = loaded_model.predict(X_test)\n",
    "r2_test=r2_score(y_test, y_test_pred)\n",
    "print(r2_test)"
   ]
  },
  {
   "cell_type": "markdown",
   "metadata": {},
   "source": [
    "### Build model for only description data "
   ]
  },
  {
   "cell_type": "markdown",
   "metadata": {},
   "source": [
    "### Word2Vec"
   ]
  },
  {
   "cell_type": "markdown",
   "metadata": {},
   "source": [
    "### Read the data where the description has been processed (lemmatized, stop word not removed, no stemming)"
   ]
  },
  {
   "cell_type": "code",
   "execution_count": null,
   "metadata": {},
   "outputs": [],
   "source": [
    "df.head()"
   ]
  },
  {
   "cell_type": "code",
   "execution_count": null,
   "metadata": {},
   "outputs": [],
   "source": [
    "df.rename(columns={\"Description\":\"description\"} , inplace=True)"
   ]
  },
  {
   "cell_type": "code",
   "execution_count": null,
   "metadata": {},
   "outputs": [],
   "source": [
    "df['description'] = df['description'].astype(str)"
   ]
  },
  {
   "cell_type": "code",
   "execution_count": null,
   "metadata": {},
   "outputs": [],
   "source": [
    "!pip install gensim"
   ]
  },
  {
   "cell_type": "code",
   "execution_count": null,
   "metadata": {},
   "outputs": [],
   "source": [
    "!pip show gensim"
   ]
  },
  {
   "cell_type": "markdown",
   "metadata": {},
   "source": [
    "### Train the word2vec using description data"
   ]
  },
  {
   "cell_type": "markdown",
   "metadata": {},
   "source": [
    "### create list of sentences(sentence contain list of words)"
   ]
  },
  {
   "cell_type": "code",
   "execution_count": null,
   "metadata": {},
   "outputs": [],
   "source": [
    "import gensim as gensim\n",
    "\n",
    "# Assuming df[\"description\"] contains the text data\n",
    "corpus = df[\"description\"]\n",
    "\n",
    "# Create list of lists of unigrams\n",
    "lst_corpus = []\n",
    "for string in corpus:\n",
    "    lst_words = string.split()\n",
    "    lst_grams = [\" \".join(lst_words[i:i+1]) \n",
    "               for i in range(0, len(lst_words), 1)]\n",
    "    lst_corpus.append(lst_grams)\n",
    "\n",
    "# Detect bigrams and trigrams\n",
    "# Use a string for the delimiter instead of bytes\n",
    "bigrams_detector = gensim.models.phrases.Phrases(lst_corpus, \n",
    "                 delimiter=\" \", min_count=5, threshold=10)\n",
    "bigrams_detector = gensim.models.phrases.Phraser(bigrams_detector)\n",
    "trigrams_detector = gensim.models.phrases.Phrases(bigrams_detector[lst_corpus], \n",
    "            delimiter=\" \", min_count=5, threshold=10)\n",
    "trigrams_detector = gensim.models.phrases.Phraser(trigrams_detector)\n",
    "\n",
    "print(\"Bigrams and trigrams detection complete.\")\n"
   ]
  },
  {
   "cell_type": "markdown",
   "metadata": {},
   "source": [
    "### Load the self trained W2V model"
   ]
  },
  {
   "cell_type": "markdown",
   "metadata": {},
   "source": [
    "### define the word2vec vectorizer"
   ]
  },
  {
   "cell_type": "code",
   "execution_count": null,
   "metadata": {},
   "outputs": [],
   "source": [
    "class MeanEmbeddingVectorizer(object):\n",
    "    def __init__(self, word2vec):\n",
    "        self.word2vec = word2vec\n",
    "        # if a text is empty we should return a vector of zeros\n",
    "        # with the same dimensionality as all the other vectors\n",
    "        self.dim = len(next(iter(word2vec.values())))\n",
    "        \n",
    "\n",
    "    def fit(self, X, y):\n",
    "        return self\n",
    "\n",
    "    def transform(self, X):\n",
    "        return np.array([np.mean([self.word2vec[w] for w in words if w in self.word2vec] or [np.zeros(self.dim)], axis=0) for words in X])"
   ]
  },
  {
   "cell_type": "markdown",
   "metadata": {},
   "source": [
    "### Tokenize"
   ]
  },
  {
   "cell_type": "code",
   "execution_count": null,
   "metadata": {},
   "outputs": [],
   "source": [
    "from nltk.tokenize import RegexpTokenizer\n",
    "tokeniser = RegexpTokenizer(r'\\w+')\n",
    "df[\"description\"]=df[\"description\"].apply(lambda x: tokeniser.tokenize(x))"
   ]
  },
  {
   "cell_type": "markdown",
   "metadata": {},
   "source": [
    "### Divide dataset into training data and testing data"
   ]
  },
  {
   "cell_type": "code",
   "execution_count": null,
   "metadata": {},
   "outputs": [],
   "source": [
    "from sklearn.model_selection import train_test_split\n",
    "X_train, X_test, y_train, y_test = train_test_split(\n",
    "    df[\"description\"], labels_price, test_size=0.1, random_state=46) #random state=13 originally"
   ]
  },
  {
   "cell_type": "code",
   "execution_count": null,
   "metadata": {},
   "outputs": [],
   "source": [
    "!pip install numpy scikit-learn tensorflow\n"
   ]
  },
  {
   "cell_type": "code",
   "execution_count": null,
   "metadata": {},
   "outputs": [],
   "source": [
    "!pip install keras==3.4.1\n"
   ]
  },
  {
   "cell_type": "code",
   "execution_count": null,
   "metadata": {},
   "outputs": [],
   "source": [
    "import numpy as np\n",
    "from sklearn.model_selection import GridSearchCV\n",
    "from tensorflow.keras.models import Sequential\n",
    "from tensorflow.keras.layers import Dense, Dropout\n",
    "from tensorflow.keras.optimizers import Adam\n",
    "\n",
    "# Define the model creation function\n",
    "def create_model(learn_rate=0.0001, amsgrad=False, activation='relu', dropout_rate=0.2, neurons=100):\n",
    "    model = Sequential()\n",
    "    model.add(Dense(neurons, activation=activation)) \n",
    "    model.add(Dropout(dropout_rate))\n",
    "    model.add(Dense(neurons * 2, activation=activation))\n",
    "    model.add(Dropout(dropout_rate / 2))\n",
    "    model.add(Dense(neurons, activation=activation))\n",
    "    model.add(Dense(1, activation='sigmoid'))  # Final layer for regression\n",
    "\n",
    "    # Compile model\n",
    "    optimizer = Adam(learning_rate=learn_rate, amsgrad=amsgrad)\n",
    "    model.compile(loss='mse', optimizer=optimizer, metrics=['mse'])\n",
    "    return model\n",
    "\n",
    "# Custom KerasRegressor-like class\n",
    "class MyKerasRegressor:\n",
    "    def __init__(self, build_fn, **kwargs):\n",
    "        self.build_fn = build_fn\n",
    "        self.kwargs = kwargs\n",
    "        self.model = None\n",
    "\n",
    "    def fit(self, X, y, **fit_params):\n",
    "        self.model = self.build_fn(**self.kwargs)\n",
    "        return self.model.fit(X, y, **fit_params)\n",
    "\n",
    "    def predict(self, X):\n",
    "        return self.model.predict(X).flatten()\n",
    "\n",
    "    def score(self, X, y):\n",
    "        from sklearn.metrics import mean_squared_error\n",
    "        y_pred = self.predict(X)\n",
    "        return -mean_squared_error(y, y_pred)  # Negative MSE for compatibility with Scikit-Learn\n",
    "\n",
    "    def get_params(self, deep=True):\n",
    "        return self.kwargs\n",
    "\n",
    "    def set_params(self, **params):\n",
    "        self.kwargs.update(params)\n",
    "        return self\n",
    "\n",
    "# Fix random seed for reproducibility\n",
    "seed = 7\n",
    "np.random.seed(seed)\n",
    "\n",
    "# Instantiate the model using the custom class\n",
    "model = MyKerasRegressor(build_fn=create_model, learn_rate=0.0001, neurons=100, activation='relu', dropout_rate=0.2, amsgrad=False)\n",
    "\n",
    "# Example of using GridSearchCV with the custom model\n",
    "param_grid = {\n",
    "    'learn_rate': [0.0001, 0.001],\n",
    "    'neurons': [50, 100],\n",
    "    'dropout_rate': [0.2, 0.3],\n",
    "    'activation': ['relu', 'tanh']\n",
    "}\n",
    "\n",
    "grid = GridSearchCV(estimator=model, param_grid=param_grid, n_jobs=-1, cv=3, scoring='neg_mean_squared_error')\n",
    "# You would typically fit the grid search with your data:\n",
    "# grid_result = grid.fit(X_train, y_train)\n"
   ]
  },
  {
   "cell_type": "markdown",
   "metadata": {},
   "source": [
    "### TF-IDF"
   ]
  },
  {
   "cell_type": "code",
   "execution_count": null,
   "metadata": {},
   "outputs": [],
   "source": [
    "import pandas as pd"
   ]
  },
  {
   "cell_type": "code",
   "execution_count": null,
   "metadata": {},
   "outputs": [],
   "source": [
    "df = pd.read_csv('cleaned_khi.csv')\n",
    "df.rename(columns={\"Description\":\"description\"} , inplace=True)\n",
    "df['description'] = df['description'].astype(str)"
   ]
  },
  {
   "cell_type": "markdown",
   "metadata": {},
   "source": [
    "### TF-IDF Vectorization"
   ]
  },
  {
   "cell_type": "code",
   "execution_count": null,
   "metadata": {},
   "outputs": [],
   "source": [
    "# Create an instance of TfidfVectorizer\n",
    "# ngram_range: (1,3) from 1-gram to 3-gram are included\n",
    "# min_df = the smallest number of rows that the word has occured in for the word to be included\n",
    "# min_df = the largest number of rows that the word has occured in for the word to be included\n",
    "from sklearn.feature_extraction.text import TfidfVectorizer\n",
    "#consider only unigram\n",
    "vectoriser = TfidfVectorizer(analyzer='word', min_df=0.03, max_df=0.95) # ngram_range=(1,3),"
   ]
  },
  {
   "cell_type": "code",
   "execution_count": null,
   "metadata": {},
   "outputs": [],
   "source": [
    "# Fit to the data and transform to feature matrix\n",
    "# just check the first 5 rows\n",
    "vectors = vectoriser.fit_transform(df['description'])"
   ]
  },
  {
   "cell_type": "code",
   "execution_count": null,
   "metadata": {},
   "outputs": [],
   "source": [
    "feature_names = vectoriser.get_feature_names_out()\n",
    "dense = vectors.todense()\n",
    "denselist = dense.tolist()\n",
    "df_desc = pd.DataFrame(denselist, columns=feature_names)\n"
   ]
  },
  {
   "cell_type": "code",
   "execution_count": null,
   "metadata": {},
   "outputs": [],
   "source": [
    "df_desc.head()"
   ]
  },
  {
   "cell_type": "markdown",
   "metadata": {},
   "source": [
    "### process all the features"
   ]
  },
  {
   "cell_type": "markdown",
   "metadata": {},
   "source": [
    "### Numerical features"
   ]
  },
  {
   "cell_type": "code",
   "execution_count": null,
   "metadata": {},
   "outputs": [],
   "source": [
    "df.head()"
   ]
  },
  {
   "cell_type": "code",
   "execution_count": null,
   "metadata": {},
   "outputs": [],
   "source": [
    "numerical_features=[\"Bedrooms\",\"Baths\", \"Size\"]"
   ]
  },
  {
   "cell_type": "code",
   "execution_count": null,
   "metadata": {},
   "outputs": [],
   "source": [
    "import pandas as pd\n",
    "import numpy as np\n",
    "from sklearn.feature_selection import SelectKBest\n",
    "from sklearn.feature_selection import chi2\n",
    "X_num=df[numerical_features]\n",
    "X_num.head()"
   ]
  },
  {
   "cell_type": "markdown",
   "metadata": {},
   "source": [
    "### Normalization for numerical data using MinMaxScaler\n"
   ]
  },
  {
   "cell_type": "code",
   "execution_count": null,
   "metadata": {},
   "outputs": [],
   "source": [
    "from sklearn.preprocessing import MinMaxScaler\n",
    "# recaling the variables (both)\n",
    "X_num_columns = X_num.columns\n",
    "scaler = MinMaxScaler()\n",
    "X_num = scaler.fit_transform(X_num)\n",
    "\n",
    "# rename columns (since now its an np array)\n",
    "X_num = pd.DataFrame(X_num)\n",
    "X_num.columns = X_num_columns\n",
    "\n"
   ]
  },
  {
   "cell_type": "markdown",
   "metadata": {},
   "source": [
    "### Convert categorical data with string values into numerical values"
   ]
  },
  {
   "cell_type": "code",
   "execution_count": null,
   "metadata": {},
   "outputs": [],
   "source": [
    "X_cat=df[['Location']]"
   ]
  },
  {
   "cell_type": "code",
   "execution_count": null,
   "metadata": {},
   "outputs": [],
   "source": [
    "## convert categorical data to numerical values\n",
    "cat_features=['Location']\n",
    "for col in cat_features:\n",
    "    X_cat[col] = X_cat[col].astype('category')\n",
    "    X_cat[col] = X_cat[col].cat.codes"
   ]
  },
  {
   "cell_type": "code",
   "execution_count": null,
   "metadata": {},
   "outputs": [],
   "source": [
    "X_cat.head()"
   ]
  },
  {
   "cell_type": "markdown",
   "metadata": {},
   "source": [
    "### Normalize the categorical data "
   ]
  },
  {
   "cell_type": "code",
   "execution_count": null,
   "metadata": {},
   "outputs": [],
   "source": [
    "from sklearn.preprocessing import MinMaxScaler\n",
    "\n",
    "# recaling the variables (both)\n",
    "X_cat_columns = X_cat.columns\n",
    "scaler = MinMaxScaler()\n",
    "X_cat = scaler.fit_transform(X_cat)\n",
    "\n",
    "# rename columns (since now its an np array)\n",
    "X_cat = pd.DataFrame(X_cat)\n",
    "X_cat.columns = X_cat_columns\n",
    "\n",
    "X_cat.head()"
   ]
  },
  {
   "cell_type": "markdown",
   "metadata": {},
   "source": [
    "### Use numerical, categorical, and description data to predict"
   ]
  },
  {
   "cell_type": "code",
   "execution_count": null,
   "metadata": {},
   "outputs": [],
   "source": [
    "X_all = pd.concat([X_num, X_cat, df_desc], axis=1)\n",
    "X_all.head()"
   ]
  },
  {
   "cell_type": "markdown",
   "metadata": {},
   "source": [
    "### Normalization of Price"
   ]
  },
  {
   "cell_type": "code",
   "execution_count": null,
   "metadata": {},
   "outputs": [],
   "source": [
    "from sklearn.preprocessing import MinMaxScaler\n",
    "\n",
    "scaler = MinMaxScaler()\n",
    "labels_price = pd.DataFrame(scaler.fit_transform(pd.DataFrame(df[\"Price\"])))"
   ]
  },
  {
   "cell_type": "markdown",
   "metadata": {},
   "source": [
    "### divide dataset"
   ]
  },
  {
   "cell_type": "code",
   "execution_count": null,
   "metadata": {},
   "outputs": [],
   "source": [
    "from sklearn.model_selection import train_test_split\n",
    "X_train, X_test, y_train, y_test = train_test_split(\n",
    "    X_all, labels_price, test_size=0.1, random_state=13) "
   ]
  },
  {
   "cell_type": "code",
   "execution_count": null,
   "metadata": {},
   "outputs": [],
   "source": [
    "X_train = np.asarray(X_train).astype(np.float32)\n",
    "X_test = np.asarray(X_test).astype(np.float32)"
   ]
  },
  {
   "cell_type": "markdown",
   "metadata": {},
   "source": [
    "### Build gradient boosting model"
   ]
  },
  {
   "cell_type": "code",
   "execution_count": null,
   "metadata": {},
   "outputs": [],
   "source": [
    "import numpy as np \n",
    "from sklearn import ensemble\n",
    "params = {'n_estimators': 1000,\n",
    "          'max_depth': 4,\n",
    "          'learning_rate': 0.02,\n",
    "          'subsample': 0.8\n",
    "         }\n",
    "\n",
    "reg = ensemble.GradientBoostingRegressor(**params)\n",
    "\n",
    "y_train_flat=np.ravel(y_train)\n",
    "reg.fit(X_train, y_train_flat)"
   ]
  },
  {
   "cell_type": "markdown",
   "metadata": {},
   "source": [
    "### Training R2 and RMSE"
   ]
  },
  {
   "cell_type": "code",
   "execution_count": null,
   "metadata": {},
   "outputs": [],
   "source": [
    "y_train_pred=reg.predict(X_train)"
   ]
  },
  {
   "cell_type": "code",
   "execution_count": null,
   "metadata": {},
   "outputs": [],
   "source": [
    "from sklearn.metrics import r2_score\n",
    "r2_train=r2_score(y_train, y_train_pred)\n",
    "print(r2_train)"
   ]
  },
  {
   "cell_type": "code",
   "execution_count": null,
   "metadata": {},
   "outputs": [],
   "source": [
    "from sklearn.metrics import mean_squared_error\n",
    "rmse_train=mean_squared_error(y_train, y_train_pred, squared=False)\n",
    "print(rmse_train)"
   ]
  },
  {
   "cell_type": "markdown",
   "metadata": {},
   "source": [
    "### Testing R2 and RMSE"
   ]
  },
  {
   "cell_type": "code",
   "execution_count": null,
   "metadata": {},
   "outputs": [],
   "source": [
    "y_test_pred=reg.predict(X_test)"
   ]
  },
  {
   "cell_type": "code",
   "execution_count": null,
   "metadata": {},
   "outputs": [],
   "source": [
    "r2_test=r2_score(y_test, y_test_pred)\n",
    "print(r2_test)"
   ]
  },
  {
   "cell_type": "code",
   "execution_count": null,
   "metadata": {},
   "outputs": [],
   "source": [
    "rmse_test=mean_squared_error(y_test, y_test_pred, squared=False)\n",
    "print(rmse_test)"
   ]
  },
  {
   "cell_type": "markdown",
   "metadata": {},
   "source": [
    "### Read the data where the description has been processed (lemmatized, stop word not removed, no stemming)"
   ]
  },
  {
   "cell_type": "code",
   "execution_count": null,
   "metadata": {},
   "outputs": [],
   "source": [
    "df['description']"
   ]
  },
  {
   "cell_type": "markdown",
   "metadata": {},
   "source": [
    "#### Tokenization once again"
   ]
  },
  {
   "cell_type": "code",
   "execution_count": null,
   "metadata": {},
   "outputs": [],
   "source": [
    "from nltk.tokenize import RegexpTokenizer\n",
    "tokeniser = RegexpTokenizer(r'\\w+')\n",
    "df[\"description\"]=df[\"description\"].apply(lambda x: tokeniser.tokenize(x))"
   ]
  },
  {
   "cell_type": "markdown",
   "metadata": {},
   "source": [
    "### Check Unique words"
   ]
  },
  {
   "cell_type": "code",
   "execution_count": null,
   "metadata": {},
   "outputs": [],
   "source": [
    "df[\"description\"]"
   ]
  },
  {
   "cell_type": "code",
   "execution_count": null,
   "metadata": {},
   "outputs": [],
   "source": [
    "df[\"description\"]=df[\"description\"].apply(lambda x: \" \".join(word for word in x))"
   ]
  },
  {
   "cell_type": "code",
   "execution_count": null,
   "metadata": {},
   "outputs": [],
   "source": [
    "# Unique words\n",
    "uniqueWords = list(set(\" \".join(df['description']).split(\" \")))\n",
    "count = len(uniqueWords)\n",
    "print(\"Number of unique words is: \"+str(count))"
   ]
  },
  {
   "cell_type": "markdown",
   "metadata": {},
   "source": [
    "### check n-gram, and word cloud"
   ]
  },
  {
   "cell_type": "markdown",
   "metadata": {},
   "source": [
    "#### check 1-gram"
   ]
  },
  {
   "cell_type": "code",
   "execution_count": null,
   "metadata": {},
   "outputs": [],
   "source": [
    "import nltk\n",
    "## This is the list of all the words in the description column\n",
    "totalWords = list(\" \".join(df['description']).split(\" \"))\n",
    "\n",
    "(pd.Series(nltk.ngrams(totalWords, 1)).value_counts())[:20]"
   ]
  },
  {
   "cell_type": "markdown",
   "metadata": {},
   "source": [
    "#### check 2-gram"
   ]
  },
  {
   "cell_type": "code",
   "execution_count": null,
   "metadata": {},
   "outputs": [],
   "source": [
    "import nltk\n",
    "(pd.Series(nltk.ngrams(totalWords, 2)).value_counts())[:20]"
   ]
  },
  {
   "cell_type": "markdown",
   "metadata": {},
   "source": [
    "#### check 3-gram"
   ]
  },
  {
   "cell_type": "code",
   "execution_count": null,
   "metadata": {},
   "outputs": [],
   "source": [
    "(pd.Series(nltk.ngrams(totalWords, 3)).value_counts())[:20]"
   ]
  },
  {
   "cell_type": "markdown",
   "metadata": {},
   "source": [
    "#### check 4-gram"
   ]
  },
  {
   "cell_type": "code",
   "execution_count": null,
   "metadata": {},
   "outputs": [],
   "source": [
    "(pd.Series(nltk.ngrams(totalWords, 4)).value_counts())[:20]"
   ]
  },
  {
   "cell_type": "markdown",
   "metadata": {},
   "source": [
    "#### word cloud for all description data"
   ]
  },
  {
   "cell_type": "code",
   "execution_count": null,
   "metadata": {},
   "outputs": [],
   "source": [
    "text = \" \".join(des for des in df.description)\n",
    "print (\"There are {} words in the combination of all description.\".format(len(text)))\n"
   ]
  },
  {
   "cell_type": "code",
   "execution_count": null,
   "metadata": {},
   "outputs": [],
   "source": [
    "!pip install wordcloud"
   ]
  },
  {
   "cell_type": "code",
   "execution_count": null,
   "metadata": {},
   "outputs": [],
   "source": [
    "import matplotlib.pyplot as plt\n",
    "from wordcloud import WordCloud\n",
    "\n",
    "# Generate a word cloud image\n",
    "wordcloud = WordCloud(width=800, height=400, background_color=\"white\").generate(text)#max_font_size=100, max_words=500,\n",
    "\n",
    "# Display the generated image:\n",
    "# the matplotlib way:\n",
    "plt.figure(figsize = (50, 50))\n",
    "plt.imshow(wordcloud, interpolation='bilinear')\n",
    "plt.axis(\"off\")\n",
    "plt.show()\n"
   ]
  },
  {
   "cell_type": "code",
   "execution_count": null,
   "metadata": {},
   "outputs": [],
   "source": [
    "df.Price.describe()"
   ]
  },
  {
   "cell_type": "markdown",
   "metadata": {},
   "source": [
    "#### word cloud for cheap 25% listings"
   ]
  },
  {
   "cell_type": "code",
   "execution_count": null,
   "metadata": {},
   "outputs": [],
   "source": [
    "df_5cheapest=df.sort_values(by=[\"Price\"])[:176]"
   ]
  },
  {
   "cell_type": "code",
   "execution_count": null,
   "metadata": {},
   "outputs": [],
   "source": [
    "text = \" \".join(des for des in df_5cheapest.description)\n",
    "print (\"There are {} words in the combination of all description.\".format(len(text)))\n",
    "\n",
    "# Generate a word cloud image\n",
    "wordcloud = WordCloud(width=800, height=400, background_color=\"white\").generate(text)#max_font_size=100, max_words=500,\n",
    "\n",
    "# Display the generated image:\n",
    "# the matplotlib way:\n",
    "plt.figure(figsize = (50, 50))\n",
    "plt.imshow(wordcloud, interpolation='bilinear')\n",
    "plt.axis(\"off\")\n",
    "plt.show()\n"
   ]
  },
  {
   "cell_type": "markdown",
   "metadata": {},
   "source": [
    "#### word cloud for middle price listings"
   ]
  },
  {
   "cell_type": "code",
   "execution_count": null,
   "metadata": {},
   "outputs": [],
   "source": [
    "df_100middle=df.sort_values(by=[\"Price\"])[176:525]"
   ]
  },
  {
   "cell_type": "code",
   "execution_count": null,
   "metadata": {},
   "outputs": [],
   "source": [
    "text = \" \".join(des for des in df_100middle.description)\n",
    "print (\"There are {} words in the combination of all description.\".format(len(text)))\n",
    "\n",
    "# Generate a word cloud image\n",
    "wordcloud = WordCloud(width=800, height=400, background_color=\"white\").generate(text)#max_font_size=100, max_words=500,\n",
    "\n",
    "# Display the generated image:\n",
    "# the matplotlib way:\n",
    "plt.figure(figsize = (100, 100))\n",
    "plt.imshow(wordcloud, interpolation='None')\n",
    "plt.axis(\"off\")\n",
    "plt.show()\n"
   ]
  },
  {
   "cell_type": "markdown",
   "metadata": {},
   "source": [
    "#### word cloud for most expensive 25% listings"
   ]
  },
  {
   "cell_type": "code",
   "execution_count": null,
   "metadata": {},
   "outputs": [],
   "source": [
    "df_25highest=df.sort_values(by=[\"Price\"], ascending=False)[:175]"
   ]
  },
  {
   "cell_type": "code",
   "execution_count": null,
   "metadata": {},
   "outputs": [],
   "source": [
    "text = \" \".join(des for des in df_25highest.description)\n",
    "print (\"There are {} words in the combination of all description.\".format(len(text)))\n",
    "\n",
    "# Generate a word cloud image\n",
    "wordcloud = WordCloud(width=800, height=400, background_color=\"white\").generate(text)#max_font_size=100, max_words=500,\n",
    "\n",
    "# Display the generated image:\n",
    "# the matplotlib way:\n",
    "plt.figure(figsize = (100, 100))\n",
    "plt.imshow(wordcloud, interpolation='None')\n",
    "plt.axis(\"off\")\n",
    "plt.show()\n"
   ]
  },
  {
   "cell_type": "markdown",
   "metadata": {},
   "source": [
    "## Grid Search\n",
    "### Random Forest, when all features are used"
   ]
  },
  {
   "cell_type": "code",
   "execution_count": null,
   "metadata": {},
   "outputs": [],
   "source": [
    "import numpy as np\n",
    "from sklearn import ensemble\n",
    "GBR = ensemble.RandomForestRegressor()\n",
    "\n",
    "\n",
    "parameters = {'bootstrap': [True, False],\n",
    "              'max_depth': [10, 20, 30, None],#5, \n",
    "              'max_features': ['auto', 'sqrt'],\n",
    "              'n_estimators': [32, 64, 100, 500]}#, 1000\n",
    "\n",
    "y_train_flat=np.ravel(y_train)\n",
    "\n",
    "from sklearn.model_selection import GridSearchCV\n",
    "grid_GBR = GridSearchCV(estimator=GBR, param_grid = parameters,scoring=('r2', 'neg_root_mean_squared_error'),refit='r2', verbose=10, cv = 5, n_jobs=-1)\n",
    "grid_GBR.fit(X_train, y_train_flat)\n",
    "\n",
    "print(\"-------------------------------------------------------------------\")\n",
    "print(\"Gradient Boosting Grid Search Results\")\n",
    "print(\"-------------------------------------------------------------------\")\n",
    "print(\"\\n The best estimator across ALL searched params:\\n\",grid_GBR.best_estimator_)\n",
    "print(\"\\n The best r2 score across ALL searched params:\\n\",grid_GBR.best_score_)\n",
    "print(\"\\n The best parameters across ALL searched params:\\n\",grid_GBR.best_params_)\n",
    "print(\"\\n\")\n",
    "print(\"-------------------------------------------------------------------\")\n",
    "print(\"All Results:\") \n",
    "\n",
    "param_com=grid_GBR.cv_results_['params']\n",
    "r2_scores=grid_GBR.cv_results_['mean_test_r2']\n",
    "rmse_scores=grid_GBR.cv_results_['mean_test_neg_root_mean_squared_error']\n",
    "print(\"-------------------------------------------------------------------\")\n",
    "index=0\n",
    "for item in param_com:\n",
    "    print(\"parameter combinations:\"+str(item))\n",
    "    print(\"\\n\")\n",
    "    print(\"test r2 score:\"+str(r2_scores[index]))\n",
    "    print(\"\\n\")\n",
    "    print(\"test RMSE score:\"+str(rmse_scores[index]*-1))\n",
    "    print(\"-------------------------------------------------------------------\")\n",
    "    index=index+1\n",
    "\n",
    "\n",
    "df_gridsearch_result = pd.DataFrame(grid_GBR.cv_results_)\n",
    "\n",
    "\n",
    "gd_result=df_gridsearch_result[['param_n_estimators','param_max_depth','param_max_features','param_bootstrap','mean_test_r2','mean_test_neg_root_mean_squared_error'  ]]"
   ]
  },
  {
   "cell_type": "code",
   "execution_count": null,
   "metadata": {},
   "outputs": [],
   "source": [
    "gd_result=gd_result.sort_values(by=['mean_test_r2', 'mean_test_neg_root_mean_squared_error'], ascending=False)\n",
    "gd_result.head(50)"
   ]
  },
  {
   "cell_type": "markdown",
   "metadata": {},
   "source": [
    "## Grid Search\n",
    "### Gradient Boosting, when all features are used"
   ]
  },
  {
   "cell_type": "code",
   "execution_count": null,
   "metadata": {},
   "outputs": [],
   "source": [
    "import numpy as np\n",
    "from sklearn import ensemble\n",
    "GBR = ensemble.GradientBoostingRegressor()\n",
    "\n",
    "parameters = {'n_estimators' : [500,1000], # 100 removed\n",
    "              'max_depth'    : [4,6], # 3 removed\n",
    "                                       #'min_samples_split': [2, 5, 8],\n",
    "              'learning_rate': [0.01,0.02], # 0.005 removed\n",
    "                                     #'loss': ['ls'], # remove huber loss\n",
    "              'subsample'    : [1, 0.8] \n",
    "             }\n",
    "\n",
    "y_train_flat=np.ravel(y_train)\n",
    "\n",
    "from sklearn.model_selection import GridSearchCV\n",
    "grid_GBR = GridSearchCV(estimator=GBR, param_grid = parameters,scoring=('r2', 'neg_root_mean_squared_error'),refit='r2', verbose=10, cv = 5, n_jobs=-1)\n",
    "grid_GBR.fit(X_train, y_train_flat)\n",
    "\n",
    "print(\"-------------------------------------------------------------------\")\n",
    "print(\"Gradient Boosting Grid Search Results\")\n",
    "print(\"-------------------------------------------------------------------\")\n",
    "print(\"\\n The best estimator across ALL searched params:\\n\",grid_GBR.best_estimator_)\n",
    "print(\"\\n The best r2 score across ALL searched params:\\n\",grid_GBR.best_score_)\n",
    "print(\"\\n The best parameters across ALL searched params:\\n\",grid_GBR.best_params_)\n",
    "print(\"\\n\")\n",
    "print(\"-------------------------------------------------------------------\")\n",
    "print(\"All Results:\") \n",
    "\n",
    "param_com=grid_GBR.cv_results_['params']\n",
    "r2_scores=grid_GBR.cv_results_['mean_test_r2']\n",
    "rmse_scores=grid_GBR.cv_results_['mean_test_neg_root_mean_squared_error']\n",
    "print(\"-------------------------------------------------------------------\")\n",
    "index=0\n",
    "for item in param_com:\n",
    "    print(\"parameter combinations:\"+str(item))\n",
    "    print(\"\\n\")\n",
    "    print(\"test r2 score:\"+str(r2_scores[index]))\n",
    "    print(\"\\n\")\n",
    "    print(\"test RMSE score:\"+str(rmse_scores[index]*-1))\n",
    "    print(\"-------------------------------------------------------------------\")\n",
    "    index=index+1\n",
    "\n",
    "\n",
    "df_gridsearch_result = pd.DataFrame(grid_GBR.cv_results_)\n",
    "\n",
    "\n",
    "gd_result=df_gridsearch_result[['param_n_estimators','param_max_depth','param_learning_rate','param_subsample','mean_test_r2','mean_test_neg_root_mean_squared_error'  ]]"
   ]
  },
  {
   "cell_type": "code",
   "execution_count": null,
   "metadata": {},
   "outputs": [],
   "source": [
    "gd_result=gd_result.sort_values(by=['mean_test_r2', 'mean_test_neg_root_mean_squared_error'], ascending=False)\n",
    "gd_result.head(50)"
   ]
  },
  {
   "cell_type": "markdown",
   "metadata": {},
   "source": [
    "### create gradient boosting model"
   ]
  },
  {
   "cell_type": "code",
   "execution_count": null,
   "metadata": {},
   "outputs": [],
   "source": [
    "import numpy as np \n",
    "params = {'n_estimators': 1000,\n",
    "          'max_depth': 4,\n",
    "          'min_samples_split': 5,\n",
    "          'learning_rate': 0.01,\n",
    "          'loss': 'squared_error'}\n",
    "\n",
    "reg = ensemble.GradientBoostingRegressor(**params)#**params\n",
    "\n",
    "y_train_flat=np.ravel(y_train)\n",
    "reg.fit(X_train, y_train_flat)"
   ]
  },
  {
   "cell_type": "markdown",
   "metadata": {},
   "source": [
    "## do cross validation"
   ]
  },
  {
   "cell_type": "code",
   "execution_count": null,
   "metadata": {},
   "outputs": [],
   "source": [
    "import time\n",
    "\n",
    "tic = time.perf_counter()"
   ]
  },
  {
   "cell_type": "code",
   "execution_count": null,
   "metadata": {},
   "outputs": [],
   "source": [
    "from sklearn.model_selection import cross_validate\n",
    "scores = cross_validate(reg, X_train, y_train_flat, scoring=('r2', 'neg_root_mean_squared_error'), cv=10, return_train_score=True)"
   ]
  },
  {
   "cell_type": "code",
   "execution_count": null,
   "metadata": {},
   "outputs": [],
   "source": [
    "print(\"RMSE training Score using cv: {:0.5f}\".format(scores['train_neg_root_mean_squared_error'].mean() * -1))"
   ]
  },
  {
   "cell_type": "code",
   "execution_count": null,
   "metadata": {},
   "outputs": [],
   "source": [
    "print(\"RMSE test Score using cv: {:0.5f}\".format(scores['test_neg_root_mean_squared_error'].mean() * -1))"
   ]
  },
  {
   "cell_type": "code",
   "execution_count": null,
   "metadata": {},
   "outputs": [],
   "source": [
    "print(\"R2 training Score using cv: {:0.5f}\".format(scores['train_r2'].mean() * -1))"
   ]
  },
  {
   "cell_type": "code",
   "execution_count": null,
   "metadata": {},
   "outputs": [],
   "source": [
    "print(\"R2 test Score using cv: {:0.5f}\".format(scores['test_r2'].mean() * -1))"
   ]
  },
  {
   "cell_type": "code",
   "execution_count": null,
   "metadata": {},
   "outputs": [],
   "source": [
    "toc = time.perf_counter()\n",
    "print(f\"Finish cross validation in  {(toc - tic)/60:0.4f} minutes\")"
   ]
  }
 ],
 "metadata": {
  "kernelspec": {
   "display_name": "python_eda",
   "language": "python",
   "name": "python3"
  },
  "language_info": {
   "codemirror_mode": {
    "name": "ipython",
    "version": 3
   },
   "file_extension": ".py",
   "mimetype": "text/x-python",
   "name": "python",
   "nbconvert_exporter": "python",
   "pygments_lexer": "ipython3",
   "version": "3.11.7"
  }
 },
 "nbformat": 4,
 "nbformat_minor": 2
}
